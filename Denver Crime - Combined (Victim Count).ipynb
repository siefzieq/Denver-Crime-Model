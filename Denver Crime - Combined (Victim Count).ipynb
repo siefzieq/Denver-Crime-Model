{
 "cells": [
  {
   "cell_type": "markdown",
   "id": "7dc24268",
   "metadata": {},
   "source": [
    "## IMPORTING LIBRARIES\n",
    "<p> </p>"
   ]
  },
  {
   "cell_type": "code",
   "execution_count": 1,
   "id": "fbb7346b",
   "metadata": {},
   "outputs": [],
   "source": [
    "# Import Libraries\n",
    "import pandas as pd\n",
    "import numpy as np\n",
    "from sklearn import metrics\n",
    "import matplotlib.pyplot as plt\n",
    "import seaborn as sns\n",
    "%matplotlib inline\n",
    "from io import StringIO\n",
    "from sklearn.metrics import classification_report, ConfusionMatrixDisplay\n",
    "\n",
    "import warnings \n",
    "warnings.simplefilter(action='ignore', category=FutureWarning)"
   ]
  },
  {
   "cell_type": "markdown",
   "id": "cdf88b9a",
   "metadata": {},
   "source": [
    "## IMPORT DATA\n",
    "<p></p>"
   ]
  },
  {
   "cell_type": "code",
   "execution_count": 2,
   "id": "ffa599aa",
   "metadata": {},
   "outputs": [],
   "source": [
    "# Read the csv file\n",
    "data = pd.read_csv('../data/crime.csv', encoding='ISO-8859-1')"
   ]
  },
  {
   "cell_type": "markdown",
   "id": "6dfc1d89",
   "metadata": {},
   "source": [
    "## DATASET OVERVIEW\n",
    "<p></p>"
   ]
  },
  {
   "cell_type": "code",
   "execution_count": 3,
   "id": "407d2ed8",
   "metadata": {
    "scrolled": true
   },
   "outputs": [
    {
     "data": {
      "text/html": [
       "<div>\n",
       "<style scoped>\n",
       "    .dataframe tbody tr th:only-of-type {\n",
       "        vertical-align: middle;\n",
       "    }\n",
       "\n",
       "    .dataframe tbody tr th {\n",
       "        vertical-align: top;\n",
       "    }\n",
       "\n",
       "    .dataframe thead th {\n",
       "        text-align: right;\n",
       "    }\n",
       "</style>\n",
       "<table border=\"1\" class=\"dataframe\">\n",
       "  <thead>\n",
       "    <tr style=\"text-align: right;\">\n",
       "      <th></th>\n",
       "      <th>incident_id</th>\n",
       "      <th>offense_id</th>\n",
       "      <th>offense_code</th>\n",
       "      <th>offense_code_extension</th>\n",
       "      <th>offense_type_id</th>\n",
       "      <th>offense_category_id</th>\n",
       "      <th>first_occurrence_date</th>\n",
       "      <th>last_occurrence_date</th>\n",
       "      <th>reported_date</th>\n",
       "      <th>incident_address</th>\n",
       "      <th>geo_x</th>\n",
       "      <th>geo_y</th>\n",
       "      <th>geo_lon</th>\n",
       "      <th>geo_lat</th>\n",
       "      <th>district_id</th>\n",
       "      <th>precinct_id</th>\n",
       "      <th>neighborhood_id</th>\n",
       "      <th>is_crime</th>\n",
       "      <th>is_traffic</th>\n",
       "      <th>victim_count</th>\n",
       "    </tr>\n",
       "  </thead>\n",
       "  <tbody>\n",
       "    <tr>\n",
       "      <th>0</th>\n",
       "      <td>202268791</td>\n",
       "      <td>202268791299900</td>\n",
       "      <td>2999</td>\n",
       "      <td>0</td>\n",
       "      <td>criminal-mischief-other</td>\n",
       "      <td>public-disorder</td>\n",
       "      <td>2/10/2022 2:50:00 AM</td>\n",
       "      <td>NaN</td>\n",
       "      <td>2/10/2022 3:16:00 AM</td>\n",
       "      <td>1107 N SANTA FE DR</td>\n",
       "      <td>3140929.0</td>\n",
       "      <td>1692612.0</td>\n",
       "      <td>-104.998910</td>\n",
       "      <td>39.733957</td>\n",
       "      <td>1</td>\n",
       "      <td>123</td>\n",
       "      <td>lincoln-park</td>\n",
       "      <td>1</td>\n",
       "      <td>0</td>\n",
       "      <td>1</td>\n",
       "    </tr>\n",
       "    <tr>\n",
       "      <th>1</th>\n",
       "      <td>2021387586</td>\n",
       "      <td>2021387586299900</td>\n",
       "      <td>2999</td>\n",
       "      <td>0</td>\n",
       "      <td>criminal-mischief-other</td>\n",
       "      <td>public-disorder</td>\n",
       "      <td>7/7/2021 9:02:00 PM</td>\n",
       "      <td>NaN</td>\n",
       "      <td>7/8/2021 12:55:00 AM</td>\n",
       "      <td>815 16TH ST</td>\n",
       "      <td>3142470.0</td>\n",
       "      <td>1697098.0</td>\n",
       "      <td>-104.993342</td>\n",
       "      <td>39.746248</td>\n",
       "      <td>6</td>\n",
       "      <td>611</td>\n",
       "      <td>cbd</td>\n",
       "      <td>1</td>\n",
       "      <td>0</td>\n",
       "      <td>1</td>\n",
       "    </tr>\n",
       "    <tr>\n",
       "      <th>2</th>\n",
       "      <td>2020641486</td>\n",
       "      <td>2020641486299900</td>\n",
       "      <td>2999</td>\n",
       "      <td>0</td>\n",
       "      <td>criminal-mischief-other</td>\n",
       "      <td>public-disorder</td>\n",
       "      <td>10/29/2020 1:30:00 AM</td>\n",
       "      <td>NaN</td>\n",
       "      <td>10/29/2020 4:31:00 AM</td>\n",
       "      <td>4745 N FEDERAL BLVD</td>\n",
       "      <td>3133352.0</td>\n",
       "      <td>1710396.0</td>\n",
       "      <td>-105.025520</td>\n",
       "      <td>39.782888</td>\n",
       "      <td>1</td>\n",
       "      <td>111</td>\n",
       "      <td>berkeley</td>\n",
       "      <td>1</td>\n",
       "      <td>0</td>\n",
       "      <td>1</td>\n",
       "    </tr>\n",
       "    <tr>\n",
       "      <th>3</th>\n",
       "      <td>2018612468</td>\n",
       "      <td>2018612468299900</td>\n",
       "      <td>2999</td>\n",
       "      <td>0</td>\n",
       "      <td>criminal-mischief-other</td>\n",
       "      <td>public-disorder</td>\n",
       "      <td>9/6/2018 5:00:00 PM</td>\n",
       "      <td>9/6/2018 11:00:00 PM</td>\n",
       "      <td>9/7/2018 9:58:00 AM</td>\n",
       "      <td>65 S FEDERAL BLVD</td>\n",
       "      <td>3133534.0</td>\n",
       "      <td>1685797.0</td>\n",
       "      <td>-105.025330</td>\n",
       "      <td>39.715357</td>\n",
       "      <td>4</td>\n",
       "      <td>411</td>\n",
       "      <td>barnum</td>\n",
       "      <td>1</td>\n",
       "      <td>0</td>\n",
       "      <td>1</td>\n",
       "    </tr>\n",
       "    <tr>\n",
       "      <th>4</th>\n",
       "      <td>2020293614</td>\n",
       "      <td>2020293614299900</td>\n",
       "      <td>2999</td>\n",
       "      <td>0</td>\n",
       "      <td>criminal-mischief-other</td>\n",
       "      <td>public-disorder</td>\n",
       "      <td>5/8/2020 5:00:00 AM</td>\n",
       "      <td>5/8/2020 6:30:00 PM</td>\n",
       "      <td>5/13/2020 10:00:00 AM</td>\n",
       "      <td>12295 E ALBROOK DR</td>\n",
       "      <td>3184065.0</td>\n",
       "      <td>1710782.0</td>\n",
       "      <td>-104.845074</td>\n",
       "      <td>39.783082</td>\n",
       "      <td>5</td>\n",
       "      <td>521</td>\n",
       "      <td>montbello</td>\n",
       "      <td>1</td>\n",
       "      <td>0</td>\n",
       "      <td>1</td>\n",
       "    </tr>\n",
       "    <tr>\n",
       "      <th>...</th>\n",
       "      <td>...</td>\n",
       "      <td>...</td>\n",
       "      <td>...</td>\n",
       "      <td>...</td>\n",
       "      <td>...</td>\n",
       "      <td>...</td>\n",
       "      <td>...</td>\n",
       "      <td>...</td>\n",
       "      <td>...</td>\n",
       "      <td>...</td>\n",
       "      <td>...</td>\n",
       "      <td>...</td>\n",
       "      <td>...</td>\n",
       "      <td>...</td>\n",
       "      <td>...</td>\n",
       "      <td>...</td>\n",
       "      <td>...</td>\n",
       "      <td>...</td>\n",
       "      <td>...</td>\n",
       "      <td>...</td>\n",
       "    </tr>\n",
       "    <tr>\n",
       "      <th>386860</th>\n",
       "      <td>2023534182</td>\n",
       "      <td>2023534182240400</td>\n",
       "      <td>2404</td>\n",
       "      <td>0</td>\n",
       "      <td>theft-of-motor-vehicle</td>\n",
       "      <td>auto-theft</td>\n",
       "      <td>10/3/2023 11:30:00 AM</td>\n",
       "      <td>10/3/2023 3:00:00 PM</td>\n",
       "      <td>10/3/2023 5:40:00 PM</td>\n",
       "      <td>8501 E ALAMEDA AVE</td>\n",
       "      <td>3171584.0</td>\n",
       "      <td>1684914.0</td>\n",
       "      <td>-104.890099</td>\n",
       "      <td>39.712310</td>\n",
       "      <td>3</td>\n",
       "      <td>321</td>\n",
       "      <td>lowry-field</td>\n",
       "      <td>1</td>\n",
       "      <td>0</td>\n",
       "      <td>1</td>\n",
       "    </tr>\n",
       "    <tr>\n",
       "      <th>386861</th>\n",
       "      <td>2023534279</td>\n",
       "      <td>2023534279260900</td>\n",
       "      <td>2609</td>\n",
       "      <td>0</td>\n",
       "      <td>fraud-by-use-of-computer</td>\n",
       "      <td>white-collar-crime</td>\n",
       "      <td>9/27/2023 11:00:00 AM</td>\n",
       "      <td>NaN</td>\n",
       "      <td>10/3/2023 6:34:00 PM</td>\n",
       "      <td>517 E BAYAUD AVE</td>\n",
       "      <td>3146000.0</td>\n",
       "      <td>1685678.0</td>\n",
       "      <td>-104.981021</td>\n",
       "      <td>39.714843</td>\n",
       "      <td>3</td>\n",
       "      <td>311</td>\n",
       "      <td>speer</td>\n",
       "      <td>1</td>\n",
       "      <td>0</td>\n",
       "      <td>1</td>\n",
       "    </tr>\n",
       "    <tr>\n",
       "      <th>386862</th>\n",
       "      <td>2023533509</td>\n",
       "      <td>2023533509131506</td>\n",
       "      <td>1315</td>\n",
       "      <td>6</td>\n",
       "      <td>agg-aslt-shoot</td>\n",
       "      <td>aggravated-assault</td>\n",
       "      <td>10/3/2023 10:44:00 AM</td>\n",
       "      <td>NaN</td>\n",
       "      <td>10/3/2023 12:03:00 PM</td>\n",
       "      <td>N JOLIET ST / E 55TH AVE</td>\n",
       "      <td>3179460.0</td>\n",
       "      <td>1715407.0</td>\n",
       "      <td>-104.861343</td>\n",
       "      <td>39.795869</td>\n",
       "      <td>5</td>\n",
       "      <td>511</td>\n",
       "      <td>montbello</td>\n",
       "      <td>1</td>\n",
       "      <td>0</td>\n",
       "      <td>1</td>\n",
       "    </tr>\n",
       "    <tr>\n",
       "      <th>386863</th>\n",
       "      <td>2023533048</td>\n",
       "      <td>2023533048131506</td>\n",
       "      <td>1315</td>\n",
       "      <td>6</td>\n",
       "      <td>agg-aslt-shoot</td>\n",
       "      <td>aggravated-assault</td>\n",
       "      <td>10/3/2023 5:30:00 AM</td>\n",
       "      <td>NaN</td>\n",
       "      <td>10/3/2023 9:47:00 AM</td>\n",
       "      <td>585 S ALTON WAY</td>\n",
       "      <td>3173405.0</td>\n",
       "      <td>1682706.0</td>\n",
       "      <td>-104.883680</td>\n",
       "      <td>39.706214</td>\n",
       "      <td>3</td>\n",
       "      <td>321</td>\n",
       "      <td>windsor</td>\n",
       "      <td>1</td>\n",
       "      <td>0</td>\n",
       "      <td>1</td>\n",
       "    </tr>\n",
       "    <tr>\n",
       "      <th>386864</th>\n",
       "      <td>2023532323</td>\n",
       "      <td>2023532323131506</td>\n",
       "      <td>1315</td>\n",
       "      <td>6</td>\n",
       "      <td>agg-aslt-shoot</td>\n",
       "      <td>aggravated-assault</td>\n",
       "      <td>10/2/2023 5:47:00 PM</td>\n",
       "      <td>NaN</td>\n",
       "      <td>10/2/2023 6:16:00 PM</td>\n",
       "      <td>1198 N SHERIDAN BLVD</td>\n",
       "      <td>3125724.0</td>\n",
       "      <td>1692953.0</td>\n",
       "      <td>-105.052966</td>\n",
       "      <td>39.735110</td>\n",
       "      <td>1</td>\n",
       "      <td>122</td>\n",
       "      <td>west-colfax</td>\n",
       "      <td>1</td>\n",
       "      <td>0</td>\n",
       "      <td>1</td>\n",
       "    </tr>\n",
       "  </tbody>\n",
       "</table>\n",
       "<p>386865 rows × 20 columns</p>\n",
       "</div>"
      ],
      "text/plain": [
       "        incident_id        offense_id  offense_code  offense_code_extension  \\\n",
       "0         202268791   202268791299900          2999                       0   \n",
       "1        2021387586  2021387586299900          2999                       0   \n",
       "2        2020641486  2020641486299900          2999                       0   \n",
       "3        2018612468  2018612468299900          2999                       0   \n",
       "4        2020293614  2020293614299900          2999                       0   \n",
       "...             ...               ...           ...                     ...   \n",
       "386860   2023534182  2023534182240400          2404                       0   \n",
       "386861   2023534279  2023534279260900          2609                       0   \n",
       "386862   2023533509  2023533509131506          1315                       6   \n",
       "386863   2023533048  2023533048131506          1315                       6   \n",
       "386864   2023532323  2023532323131506          1315                       6   \n",
       "\n",
       "                 offense_type_id offense_category_id  first_occurrence_date  \\\n",
       "0        criminal-mischief-other     public-disorder   2/10/2022 2:50:00 AM   \n",
       "1        criminal-mischief-other     public-disorder    7/7/2021 9:02:00 PM   \n",
       "2        criminal-mischief-other     public-disorder  10/29/2020 1:30:00 AM   \n",
       "3        criminal-mischief-other     public-disorder    9/6/2018 5:00:00 PM   \n",
       "4        criminal-mischief-other     public-disorder    5/8/2020 5:00:00 AM   \n",
       "...                          ...                 ...                    ...   \n",
       "386860    theft-of-motor-vehicle          auto-theft  10/3/2023 11:30:00 AM   \n",
       "386861  fraud-by-use-of-computer  white-collar-crime  9/27/2023 11:00:00 AM   \n",
       "386862            agg-aslt-shoot  aggravated-assault  10/3/2023 10:44:00 AM   \n",
       "386863            agg-aslt-shoot  aggravated-assault   10/3/2023 5:30:00 AM   \n",
       "386864            agg-aslt-shoot  aggravated-assault   10/2/2023 5:47:00 PM   \n",
       "\n",
       "        last_occurrence_date          reported_date          incident_address  \\\n",
       "0                        NaN   2/10/2022 3:16:00 AM        1107 N SANTA FE DR   \n",
       "1                        NaN   7/8/2021 12:55:00 AM               815 16TH ST   \n",
       "2                        NaN  10/29/2020 4:31:00 AM       4745 N FEDERAL BLVD   \n",
       "3       9/6/2018 11:00:00 PM    9/7/2018 9:58:00 AM         65 S FEDERAL BLVD   \n",
       "4        5/8/2020 6:30:00 PM  5/13/2020 10:00:00 AM        12295 E ALBROOK DR   \n",
       "...                      ...                    ...                       ...   \n",
       "386860  10/3/2023 3:00:00 PM   10/3/2023 5:40:00 PM        8501 E ALAMEDA AVE   \n",
       "386861                   NaN   10/3/2023 6:34:00 PM          517 E BAYAUD AVE   \n",
       "386862                   NaN  10/3/2023 12:03:00 PM  N JOLIET ST / E 55TH AVE   \n",
       "386863                   NaN   10/3/2023 9:47:00 AM           585 S ALTON WAY   \n",
       "386864                   NaN   10/2/2023 6:16:00 PM      1198 N SHERIDAN BLVD   \n",
       "\n",
       "            geo_x      geo_y     geo_lon    geo_lat district_id  precinct_id  \\\n",
       "0       3140929.0  1692612.0 -104.998910  39.733957           1          123   \n",
       "1       3142470.0  1697098.0 -104.993342  39.746248           6          611   \n",
       "2       3133352.0  1710396.0 -105.025520  39.782888           1          111   \n",
       "3       3133534.0  1685797.0 -105.025330  39.715357           4          411   \n",
       "4       3184065.0  1710782.0 -104.845074  39.783082           5          521   \n",
       "...           ...        ...         ...        ...         ...          ...   \n",
       "386860  3171584.0  1684914.0 -104.890099  39.712310           3          321   \n",
       "386861  3146000.0  1685678.0 -104.981021  39.714843           3          311   \n",
       "386862  3179460.0  1715407.0 -104.861343  39.795869           5          511   \n",
       "386863  3173405.0  1682706.0 -104.883680  39.706214           3          321   \n",
       "386864  3125724.0  1692953.0 -105.052966  39.735110           1          122   \n",
       "\n",
       "       neighborhood_id  is_crime  is_traffic  victim_count  \n",
       "0         lincoln-park         1           0             1  \n",
       "1                  cbd         1           0             1  \n",
       "2             berkeley         1           0             1  \n",
       "3               barnum         1           0             1  \n",
       "4            montbello         1           0             1  \n",
       "...                ...       ...         ...           ...  \n",
       "386860     lowry-field         1           0             1  \n",
       "386861           speer         1           0             1  \n",
       "386862       montbello         1           0             1  \n",
       "386863         windsor         1           0             1  \n",
       "386864     west-colfax         1           0             1  \n",
       "\n",
       "[386865 rows x 20 columns]"
      ]
     },
     "execution_count": 3,
     "metadata": {},
     "output_type": "execute_result"
    }
   ],
   "source": [
    "data"
   ]
  },
  {
   "cell_type": "code",
   "execution_count": 4,
   "id": "b5e35a9c",
   "metadata": {},
   "outputs": [
    {
     "data": {
      "text/plain": [
       "incident_id                 int64\n",
       "offense_id                  int64\n",
       "offense_code                int64\n",
       "offense_code_extension      int64\n",
       "offense_type_id            object\n",
       "offense_category_id        object\n",
       "first_occurrence_date      object\n",
       "last_occurrence_date       object\n",
       "reported_date              object\n",
       "incident_address           object\n",
       "geo_x                     float64\n",
       "geo_y                     float64\n",
       "geo_lon                   float64\n",
       "geo_lat                   float64\n",
       "district_id                object\n",
       "precinct_id                 int64\n",
       "neighborhood_id            object\n",
       "is_crime                    int64\n",
       "is_traffic                  int64\n",
       "victim_count                int64\n",
       "dtype: object"
      ]
     },
     "execution_count": 4,
     "metadata": {},
     "output_type": "execute_result"
    }
   ],
   "source": [
    "data.dtypes"
   ]
  },
  {
   "cell_type": "code",
   "execution_count": 5,
   "id": "6c168aa1",
   "metadata": {},
   "outputs": [
    {
     "data": {
      "text/plain": [
       "is_crime\n",
       "1    386865\n",
       "Name: count, dtype: int64"
      ]
     },
     "execution_count": 5,
     "metadata": {},
     "output_type": "execute_result"
    }
   ],
   "source": [
    "data['is_crime'].value_counts()"
   ]
  },
  {
   "cell_type": "markdown",
   "id": "0037ccfb",
   "metadata": {},
   "source": [
    "<b>is_crime only consist of 1 value</b>"
   ]
  },
  {
   "cell_type": "code",
   "execution_count": 6,
   "id": "2d971d72",
   "metadata": {},
   "outputs": [
    {
     "data": {
      "text/plain": [
       "is_traffic\n",
       "0    386865\n",
       "Name: count, dtype: int64"
      ]
     },
     "execution_count": 6,
     "metadata": {},
     "output_type": "execute_result"
    }
   ],
   "source": [
    "data['is_traffic'].value_counts()"
   ]
  },
  {
   "cell_type": "markdown",
   "id": "b3633a9b",
   "metadata": {},
   "source": [
    "<b>is_traffic also consist of 1 value</b>"
   ]
  },
  {
   "cell_type": "code",
   "execution_count": 7,
   "id": "07588e01",
   "metadata": {},
   "outputs": [
    {
     "data": {
      "text/plain": [
       "victim_count\n",
       "1     381901\n",
       "2       3594\n",
       "3        732\n",
       "4        274\n",
       "5        167\n",
       "6         81\n",
       "7         50\n",
       "8         27\n",
       "9         13\n",
       "14         5\n",
       "10         5\n",
       "11         4\n",
       "13         4\n",
       "12         3\n",
       "16         2\n",
       "15         1\n",
       "17         1\n",
       "19         1\n",
       "Name: count, dtype: int64"
      ]
     },
     "execution_count": 7,
     "metadata": {},
     "output_type": "execute_result"
    }
   ],
   "source": [
    "data.victim_count.value_counts()"
   ]
  },
  {
   "cell_type": "code",
   "execution_count": 8,
   "id": "97a05a5b",
   "metadata": {},
   "outputs": [
    {
     "data": {
      "text/plain": [
       "incident_id\n",
       "2023171905    8\n",
       "2020498096    7\n",
       "2023421058    6\n",
       "2019371467    6\n",
       "2020613268    6\n",
       "             ..\n",
       "2018662312    1\n",
       "201970920     1\n",
       "2020179065    1\n",
       "2018113456    1\n",
       "2023532323    1\n",
       "Name: count, Length: 362260, dtype: int64"
      ]
     },
     "execution_count": 8,
     "metadata": {},
     "output_type": "execute_result"
    }
   ],
   "source": [
    "# Checking whether incident_id is unique\n",
    "data.incident_id.value_counts()"
   ]
  },
  {
   "cell_type": "markdown",
   "id": "c4545d2f",
   "metadata": {},
   "source": [
    "<b>Incident ID is not unique, thus cannot be as index</b>"
   ]
  },
  {
   "cell_type": "code",
   "execution_count": 9,
   "id": "5e754d9b",
   "metadata": {},
   "outputs": [
    {
     "data": {
      "text/plain": [
       "neighborhood_id\n",
       "five-points     23074\n",
       "central-park    17864\n",
       "capitol-hill    14655\n",
       "cbd             14651\n",
       "dia             14642\n",
       "                ...  \n",
       "skyland          1155\n",
       "rosedale         1100\n",
       "country-club      887\n",
       "indian-creek      718\n",
       "wellshire         381\n",
       "Name: count, Length: 78, dtype: int64"
      ]
     },
     "execution_count": 9,
     "metadata": {},
     "output_type": "execute_result"
    }
   ],
   "source": [
    "data.neighborhood_id.value_counts()"
   ]
  },
  {
   "cell_type": "markdown",
   "id": "b69a1421",
   "metadata": {},
   "source": [
    "<b>Neighbourhood ID is not unique, thus cannot be index</b>"
   ]
  },
  {
   "cell_type": "code",
   "execution_count": 10,
   "id": "c7752009",
   "metadata": {},
   "outputs": [
    {
     "data": {
      "text/plain": [
       "offense_id\n",
       "202268791299900      1\n",
       "2020539776239901     1\n",
       "20216011503239901    1\n",
       "20206011664239901    1\n",
       "20206009519239901    1\n",
       "                    ..\n",
       "2021401770131500     1\n",
       "2020535307131500     1\n",
       "2018270124131500     1\n",
       "2019637220131500     1\n",
       "2023532323131506     1\n",
       "Name: count, Length: 386865, dtype: int64"
      ]
     },
     "execution_count": 10,
     "metadata": {},
     "output_type": "execute_result"
    }
   ],
   "source": [
    "# Checking whether offense_id is unique\n",
    "data.offense_id.value_counts()"
   ]
  },
  {
   "cell_type": "code",
   "execution_count": 11,
   "id": "b360af07",
   "metadata": {},
   "outputs": [
    {
     "data": {
      "text/plain": [
       "incident_address\n",
       "8500 PENA BLVD              2082\n",
       "8400 PENA BLVD              1629\n",
       "1331 N CHEROKEE ST          1605\n",
       "490 W COLFAX AVE            1498\n",
       "7800 E SMITH RD             1416\n",
       "                            ... \n",
       "2112 GLENARM PL                1\n",
       "2240 W VIRGINIA AVE            1\n",
       "1836 W MISSISSIPPI AVE         1\n",
       "3090 S MADISON ST              1\n",
       "N JOLIET ST / E 55TH AVE       1\n",
       "Name: count, Length: 90518, dtype: int64"
      ]
     },
     "execution_count": 11,
     "metadata": {},
     "output_type": "execute_result"
    }
   ],
   "source": [
    "data.incident_address.value_counts()"
   ]
  },
  {
   "cell_type": "code",
   "execution_count": 12,
   "id": "64ea2e47",
   "metadata": {},
   "outputs": [
    {
     "data": {
      "text/plain": [
       "geo_x\n",
       "3231903.0    1645\n",
       "3142418.0    1529\n",
       "3223441.0    1379\n",
       "3142778.0    1327\n",
       "3231977.0    1220\n",
       "             ... \n",
       "3123760.0       1\n",
       "3133920.0       1\n",
       "3212842.0       1\n",
       "3195887.0       1\n",
       "3179460.0       1\n",
       "Name: count, Length: 45254, dtype: int64"
      ]
     },
     "execution_count": 12,
     "metadata": {},
     "output_type": "execute_result"
    }
   ],
   "source": [
    "data.geo_x.value_counts()"
   ]
  },
  {
   "cell_type": "code",
   "execution_count": 13,
   "id": "f6b8bb08",
   "metadata": {},
   "outputs": [
    {
     "data": {
      "text/plain": [
       "geo_y\n",
       "1736251.0    2093\n",
       "1693787.0    1652\n",
       "1694739.0    1530\n",
       "1705800.0    1429\n",
       "1728516.0    1379\n",
       "             ... \n",
       "1686482.0       1\n",
       "1670095.0       1\n",
       "1696389.0       1\n",
       "1684114.0       1\n",
       "1715407.0       1\n",
       "Name: count, Length: 43520, dtype: int64"
      ]
     },
     "execution_count": 13,
     "metadata": {},
     "output_type": "execute_result"
    }
   ],
   "source": [
    "data.geo_y.value_counts()"
   ]
  },
  {
   "cell_type": "code",
   "execution_count": 14,
   "id": "c7cf245e",
   "metadata": {},
   "outputs": [
    {
     "data": {
      "text/plain": [
       "geo_lon\n",
       "-104.674045    1641\n",
       "-104.993574    1523\n",
       "-104.704423    1379\n",
       "-104.992313    1295\n",
       "-104.673812    1216\n",
       "               ... \n",
       "-105.042945       1\n",
       "-105.017690       1\n",
       "-105.048967       1\n",
       "-105.022286       1\n",
       "-104.861343       1\n",
       "Name: count, Length: 90864, dtype: int64"
      ]
     },
     "execution_count": 14,
     "metadata": {},
     "output_type": "execute_result"
    }
   ],
   "source": [
    "data.geo_lon.value_counts()"
   ]
  },
  {
   "cell_type": "code",
   "execution_count": 15,
   "id": "df3b35f4",
   "metadata": {},
   "outputs": [
    {
     "data": {
      "text/plain": [
       "geo_lat\n",
       "39.851926    1641\n",
       "39.737154    1628\n",
       "39.739773    1523\n",
       "39.769688    1428\n",
       "39.830901    1379\n",
       "             ... \n",
       "39.703089       1\n",
       "39.692453       1\n",
       "39.690004       1\n",
       "39.706031       1\n",
       "39.795869       1\n",
       "Name: count, Length: 90549, dtype: int64"
      ]
     },
     "execution_count": 15,
     "metadata": {},
     "output_type": "execute_result"
    }
   ],
   "source": [
    "data.geo_lat.value_counts()"
   ]
  },
  {
   "cell_type": "code",
   "execution_count": 16,
   "id": "e2d05b2f",
   "metadata": {},
   "outputs": [],
   "source": [
    "# Set an index\n",
    "data.set_index('offense_id', inplace=True)"
   ]
  },
  {
   "cell_type": "code",
   "execution_count": 17,
   "id": "8879c055",
   "metadata": {},
   "outputs": [
    {
     "data": {
      "text/html": [
       "<div>\n",
       "<style scoped>\n",
       "    .dataframe tbody tr th:only-of-type {\n",
       "        vertical-align: middle;\n",
       "    }\n",
       "\n",
       "    .dataframe tbody tr th {\n",
       "        vertical-align: top;\n",
       "    }\n",
       "\n",
       "    .dataframe thead th {\n",
       "        text-align: right;\n",
       "    }\n",
       "</style>\n",
       "<table border=\"1\" class=\"dataframe\">\n",
       "  <thead>\n",
       "    <tr style=\"text-align: right;\">\n",
       "      <th></th>\n",
       "      <th>incident_id</th>\n",
       "      <th>offense_code</th>\n",
       "      <th>offense_code_extension</th>\n",
       "      <th>offense_type_id</th>\n",
       "      <th>offense_category_id</th>\n",
       "      <th>first_occurrence_date</th>\n",
       "      <th>last_occurrence_date</th>\n",
       "      <th>reported_date</th>\n",
       "      <th>incident_address</th>\n",
       "      <th>geo_x</th>\n",
       "      <th>geo_y</th>\n",
       "      <th>geo_lon</th>\n",
       "      <th>geo_lat</th>\n",
       "      <th>district_id</th>\n",
       "      <th>precinct_id</th>\n",
       "      <th>neighborhood_id</th>\n",
       "      <th>is_crime</th>\n",
       "      <th>is_traffic</th>\n",
       "      <th>victim_count</th>\n",
       "    </tr>\n",
       "    <tr>\n",
       "      <th>offense_id</th>\n",
       "      <th></th>\n",
       "      <th></th>\n",
       "      <th></th>\n",
       "      <th></th>\n",
       "      <th></th>\n",
       "      <th></th>\n",
       "      <th></th>\n",
       "      <th></th>\n",
       "      <th></th>\n",
       "      <th></th>\n",
       "      <th></th>\n",
       "      <th></th>\n",
       "      <th></th>\n",
       "      <th></th>\n",
       "      <th></th>\n",
       "      <th></th>\n",
       "      <th></th>\n",
       "      <th></th>\n",
       "      <th></th>\n",
       "    </tr>\n",
       "  </thead>\n",
       "  <tbody>\n",
       "    <tr>\n",
       "      <th>202268791299900</th>\n",
       "      <td>202268791</td>\n",
       "      <td>2999</td>\n",
       "      <td>0</td>\n",
       "      <td>criminal-mischief-other</td>\n",
       "      <td>public-disorder</td>\n",
       "      <td>2/10/2022 2:50:00 AM</td>\n",
       "      <td>NaN</td>\n",
       "      <td>2/10/2022 3:16:00 AM</td>\n",
       "      <td>1107 N SANTA FE DR</td>\n",
       "      <td>3140929.0</td>\n",
       "      <td>1692612.0</td>\n",
       "      <td>-104.998910</td>\n",
       "      <td>39.733957</td>\n",
       "      <td>1</td>\n",
       "      <td>123</td>\n",
       "      <td>lincoln-park</td>\n",
       "      <td>1</td>\n",
       "      <td>0</td>\n",
       "      <td>1</td>\n",
       "    </tr>\n",
       "    <tr>\n",
       "      <th>2021387586299900</th>\n",
       "      <td>2021387586</td>\n",
       "      <td>2999</td>\n",
       "      <td>0</td>\n",
       "      <td>criminal-mischief-other</td>\n",
       "      <td>public-disorder</td>\n",
       "      <td>7/7/2021 9:02:00 PM</td>\n",
       "      <td>NaN</td>\n",
       "      <td>7/8/2021 12:55:00 AM</td>\n",
       "      <td>815 16TH ST</td>\n",
       "      <td>3142470.0</td>\n",
       "      <td>1697098.0</td>\n",
       "      <td>-104.993342</td>\n",
       "      <td>39.746248</td>\n",
       "      <td>6</td>\n",
       "      <td>611</td>\n",
       "      <td>cbd</td>\n",
       "      <td>1</td>\n",
       "      <td>0</td>\n",
       "      <td>1</td>\n",
       "    </tr>\n",
       "    <tr>\n",
       "      <th>2020641486299900</th>\n",
       "      <td>2020641486</td>\n",
       "      <td>2999</td>\n",
       "      <td>0</td>\n",
       "      <td>criminal-mischief-other</td>\n",
       "      <td>public-disorder</td>\n",
       "      <td>10/29/2020 1:30:00 AM</td>\n",
       "      <td>NaN</td>\n",
       "      <td>10/29/2020 4:31:00 AM</td>\n",
       "      <td>4745 N FEDERAL BLVD</td>\n",
       "      <td>3133352.0</td>\n",
       "      <td>1710396.0</td>\n",
       "      <td>-105.025520</td>\n",
       "      <td>39.782888</td>\n",
       "      <td>1</td>\n",
       "      <td>111</td>\n",
       "      <td>berkeley</td>\n",
       "      <td>1</td>\n",
       "      <td>0</td>\n",
       "      <td>1</td>\n",
       "    </tr>\n",
       "    <tr>\n",
       "      <th>2018612468299900</th>\n",
       "      <td>2018612468</td>\n",
       "      <td>2999</td>\n",
       "      <td>0</td>\n",
       "      <td>criminal-mischief-other</td>\n",
       "      <td>public-disorder</td>\n",
       "      <td>9/6/2018 5:00:00 PM</td>\n",
       "      <td>9/6/2018 11:00:00 PM</td>\n",
       "      <td>9/7/2018 9:58:00 AM</td>\n",
       "      <td>65 S FEDERAL BLVD</td>\n",
       "      <td>3133534.0</td>\n",
       "      <td>1685797.0</td>\n",
       "      <td>-105.025330</td>\n",
       "      <td>39.715357</td>\n",
       "      <td>4</td>\n",
       "      <td>411</td>\n",
       "      <td>barnum</td>\n",
       "      <td>1</td>\n",
       "      <td>0</td>\n",
       "      <td>1</td>\n",
       "    </tr>\n",
       "    <tr>\n",
       "      <th>2020293614299900</th>\n",
       "      <td>2020293614</td>\n",
       "      <td>2999</td>\n",
       "      <td>0</td>\n",
       "      <td>criminal-mischief-other</td>\n",
       "      <td>public-disorder</td>\n",
       "      <td>5/8/2020 5:00:00 AM</td>\n",
       "      <td>5/8/2020 6:30:00 PM</td>\n",
       "      <td>5/13/2020 10:00:00 AM</td>\n",
       "      <td>12295 E ALBROOK DR</td>\n",
       "      <td>3184065.0</td>\n",
       "      <td>1710782.0</td>\n",
       "      <td>-104.845074</td>\n",
       "      <td>39.783082</td>\n",
       "      <td>5</td>\n",
       "      <td>521</td>\n",
       "      <td>montbello</td>\n",
       "      <td>1</td>\n",
       "      <td>0</td>\n",
       "      <td>1</td>\n",
       "    </tr>\n",
       "    <tr>\n",
       "      <th>...</th>\n",
       "      <td>...</td>\n",
       "      <td>...</td>\n",
       "      <td>...</td>\n",
       "      <td>...</td>\n",
       "      <td>...</td>\n",
       "      <td>...</td>\n",
       "      <td>...</td>\n",
       "      <td>...</td>\n",
       "      <td>...</td>\n",
       "      <td>...</td>\n",
       "      <td>...</td>\n",
       "      <td>...</td>\n",
       "      <td>...</td>\n",
       "      <td>...</td>\n",
       "      <td>...</td>\n",
       "      <td>...</td>\n",
       "      <td>...</td>\n",
       "      <td>...</td>\n",
       "      <td>...</td>\n",
       "    </tr>\n",
       "    <tr>\n",
       "      <th>2023534182240400</th>\n",
       "      <td>2023534182</td>\n",
       "      <td>2404</td>\n",
       "      <td>0</td>\n",
       "      <td>theft-of-motor-vehicle</td>\n",
       "      <td>auto-theft</td>\n",
       "      <td>10/3/2023 11:30:00 AM</td>\n",
       "      <td>10/3/2023 3:00:00 PM</td>\n",
       "      <td>10/3/2023 5:40:00 PM</td>\n",
       "      <td>8501 E ALAMEDA AVE</td>\n",
       "      <td>3171584.0</td>\n",
       "      <td>1684914.0</td>\n",
       "      <td>-104.890099</td>\n",
       "      <td>39.712310</td>\n",
       "      <td>3</td>\n",
       "      <td>321</td>\n",
       "      <td>lowry-field</td>\n",
       "      <td>1</td>\n",
       "      <td>0</td>\n",
       "      <td>1</td>\n",
       "    </tr>\n",
       "    <tr>\n",
       "      <th>2023534279260900</th>\n",
       "      <td>2023534279</td>\n",
       "      <td>2609</td>\n",
       "      <td>0</td>\n",
       "      <td>fraud-by-use-of-computer</td>\n",
       "      <td>white-collar-crime</td>\n",
       "      <td>9/27/2023 11:00:00 AM</td>\n",
       "      <td>NaN</td>\n",
       "      <td>10/3/2023 6:34:00 PM</td>\n",
       "      <td>517 E BAYAUD AVE</td>\n",
       "      <td>3146000.0</td>\n",
       "      <td>1685678.0</td>\n",
       "      <td>-104.981021</td>\n",
       "      <td>39.714843</td>\n",
       "      <td>3</td>\n",
       "      <td>311</td>\n",
       "      <td>speer</td>\n",
       "      <td>1</td>\n",
       "      <td>0</td>\n",
       "      <td>1</td>\n",
       "    </tr>\n",
       "    <tr>\n",
       "      <th>2023533509131506</th>\n",
       "      <td>2023533509</td>\n",
       "      <td>1315</td>\n",
       "      <td>6</td>\n",
       "      <td>agg-aslt-shoot</td>\n",
       "      <td>aggravated-assault</td>\n",
       "      <td>10/3/2023 10:44:00 AM</td>\n",
       "      <td>NaN</td>\n",
       "      <td>10/3/2023 12:03:00 PM</td>\n",
       "      <td>N JOLIET ST / E 55TH AVE</td>\n",
       "      <td>3179460.0</td>\n",
       "      <td>1715407.0</td>\n",
       "      <td>-104.861343</td>\n",
       "      <td>39.795869</td>\n",
       "      <td>5</td>\n",
       "      <td>511</td>\n",
       "      <td>montbello</td>\n",
       "      <td>1</td>\n",
       "      <td>0</td>\n",
       "      <td>1</td>\n",
       "    </tr>\n",
       "    <tr>\n",
       "      <th>2023533048131506</th>\n",
       "      <td>2023533048</td>\n",
       "      <td>1315</td>\n",
       "      <td>6</td>\n",
       "      <td>agg-aslt-shoot</td>\n",
       "      <td>aggravated-assault</td>\n",
       "      <td>10/3/2023 5:30:00 AM</td>\n",
       "      <td>NaN</td>\n",
       "      <td>10/3/2023 9:47:00 AM</td>\n",
       "      <td>585 S ALTON WAY</td>\n",
       "      <td>3173405.0</td>\n",
       "      <td>1682706.0</td>\n",
       "      <td>-104.883680</td>\n",
       "      <td>39.706214</td>\n",
       "      <td>3</td>\n",
       "      <td>321</td>\n",
       "      <td>windsor</td>\n",
       "      <td>1</td>\n",
       "      <td>0</td>\n",
       "      <td>1</td>\n",
       "    </tr>\n",
       "    <tr>\n",
       "      <th>2023532323131506</th>\n",
       "      <td>2023532323</td>\n",
       "      <td>1315</td>\n",
       "      <td>6</td>\n",
       "      <td>agg-aslt-shoot</td>\n",
       "      <td>aggravated-assault</td>\n",
       "      <td>10/2/2023 5:47:00 PM</td>\n",
       "      <td>NaN</td>\n",
       "      <td>10/2/2023 6:16:00 PM</td>\n",
       "      <td>1198 N SHERIDAN BLVD</td>\n",
       "      <td>3125724.0</td>\n",
       "      <td>1692953.0</td>\n",
       "      <td>-105.052966</td>\n",
       "      <td>39.735110</td>\n",
       "      <td>1</td>\n",
       "      <td>122</td>\n",
       "      <td>west-colfax</td>\n",
       "      <td>1</td>\n",
       "      <td>0</td>\n",
       "      <td>1</td>\n",
       "    </tr>\n",
       "  </tbody>\n",
       "</table>\n",
       "<p>386865 rows × 19 columns</p>\n",
       "</div>"
      ],
      "text/plain": [
       "                  incident_id  offense_code  offense_code_extension  \\\n",
       "offense_id                                                            \n",
       "202268791299900     202268791          2999                       0   \n",
       "2021387586299900   2021387586          2999                       0   \n",
       "2020641486299900   2020641486          2999                       0   \n",
       "2018612468299900   2018612468          2999                       0   \n",
       "2020293614299900   2020293614          2999                       0   \n",
       "...                       ...           ...                     ...   \n",
       "2023534182240400   2023534182          2404                       0   \n",
       "2023534279260900   2023534279          2609                       0   \n",
       "2023533509131506   2023533509          1315                       6   \n",
       "2023533048131506   2023533048          1315                       6   \n",
       "2023532323131506   2023532323          1315                       6   \n",
       "\n",
       "                           offense_type_id offense_category_id  \\\n",
       "offense_id                                                       \n",
       "202268791299900    criminal-mischief-other     public-disorder   \n",
       "2021387586299900   criminal-mischief-other     public-disorder   \n",
       "2020641486299900   criminal-mischief-other     public-disorder   \n",
       "2018612468299900   criminal-mischief-other     public-disorder   \n",
       "2020293614299900   criminal-mischief-other     public-disorder   \n",
       "...                                    ...                 ...   \n",
       "2023534182240400    theft-of-motor-vehicle          auto-theft   \n",
       "2023534279260900  fraud-by-use-of-computer  white-collar-crime   \n",
       "2023533509131506            agg-aslt-shoot  aggravated-assault   \n",
       "2023533048131506            agg-aslt-shoot  aggravated-assault   \n",
       "2023532323131506            agg-aslt-shoot  aggravated-assault   \n",
       "\n",
       "                  first_occurrence_date  last_occurrence_date  \\\n",
       "offense_id                                                      \n",
       "202268791299900    2/10/2022 2:50:00 AM                   NaN   \n",
       "2021387586299900    7/7/2021 9:02:00 PM                   NaN   \n",
       "2020641486299900  10/29/2020 1:30:00 AM                   NaN   \n",
       "2018612468299900    9/6/2018 5:00:00 PM  9/6/2018 11:00:00 PM   \n",
       "2020293614299900    5/8/2020 5:00:00 AM   5/8/2020 6:30:00 PM   \n",
       "...                                 ...                   ...   \n",
       "2023534182240400  10/3/2023 11:30:00 AM  10/3/2023 3:00:00 PM   \n",
       "2023534279260900  9/27/2023 11:00:00 AM                   NaN   \n",
       "2023533509131506  10/3/2023 10:44:00 AM                   NaN   \n",
       "2023533048131506   10/3/2023 5:30:00 AM                   NaN   \n",
       "2023532323131506   10/2/2023 5:47:00 PM                   NaN   \n",
       "\n",
       "                          reported_date          incident_address      geo_x  \\\n",
       "offense_id                                                                     \n",
       "202268791299900    2/10/2022 3:16:00 AM        1107 N SANTA FE DR  3140929.0   \n",
       "2021387586299900   7/8/2021 12:55:00 AM               815 16TH ST  3142470.0   \n",
       "2020641486299900  10/29/2020 4:31:00 AM       4745 N FEDERAL BLVD  3133352.0   \n",
       "2018612468299900    9/7/2018 9:58:00 AM         65 S FEDERAL BLVD  3133534.0   \n",
       "2020293614299900  5/13/2020 10:00:00 AM        12295 E ALBROOK DR  3184065.0   \n",
       "...                                 ...                       ...        ...   \n",
       "2023534182240400   10/3/2023 5:40:00 PM        8501 E ALAMEDA AVE  3171584.0   \n",
       "2023534279260900   10/3/2023 6:34:00 PM          517 E BAYAUD AVE  3146000.0   \n",
       "2023533509131506  10/3/2023 12:03:00 PM  N JOLIET ST / E 55TH AVE  3179460.0   \n",
       "2023533048131506   10/3/2023 9:47:00 AM           585 S ALTON WAY  3173405.0   \n",
       "2023532323131506   10/2/2023 6:16:00 PM      1198 N SHERIDAN BLVD  3125724.0   \n",
       "\n",
       "                      geo_y     geo_lon    geo_lat district_id  precinct_id  \\\n",
       "offense_id                                                                    \n",
       "202268791299900   1692612.0 -104.998910  39.733957           1          123   \n",
       "2021387586299900  1697098.0 -104.993342  39.746248           6          611   \n",
       "2020641486299900  1710396.0 -105.025520  39.782888           1          111   \n",
       "2018612468299900  1685797.0 -105.025330  39.715357           4          411   \n",
       "2020293614299900  1710782.0 -104.845074  39.783082           5          521   \n",
       "...                     ...         ...        ...         ...          ...   \n",
       "2023534182240400  1684914.0 -104.890099  39.712310           3          321   \n",
       "2023534279260900  1685678.0 -104.981021  39.714843           3          311   \n",
       "2023533509131506  1715407.0 -104.861343  39.795869           5          511   \n",
       "2023533048131506  1682706.0 -104.883680  39.706214           3          321   \n",
       "2023532323131506  1692953.0 -105.052966  39.735110           1          122   \n",
       "\n",
       "                 neighborhood_id  is_crime  is_traffic  victim_count  \n",
       "offense_id                                                            \n",
       "202268791299900     lincoln-park         1           0             1  \n",
       "2021387586299900             cbd         1           0             1  \n",
       "2020641486299900        berkeley         1           0             1  \n",
       "2018612468299900          barnum         1           0             1  \n",
       "2020293614299900       montbello         1           0             1  \n",
       "...                          ...       ...         ...           ...  \n",
       "2023534182240400     lowry-field         1           0             1  \n",
       "2023534279260900           speer         1           0             1  \n",
       "2023533509131506       montbello         1           0             1  \n",
       "2023533048131506         windsor         1           0             1  \n",
       "2023532323131506     west-colfax         1           0             1  \n",
       "\n",
       "[386865 rows x 19 columns]"
      ]
     },
     "execution_count": 17,
     "metadata": {},
     "output_type": "execute_result"
    }
   ],
   "source": [
    "data"
   ]
  },
  {
   "cell_type": "markdown",
   "id": "e72d6def",
   "metadata": {},
   "source": [
    "<b>Offense ID is unique, thus can be as index</b>"
   ]
  },
  {
   "cell_type": "code",
   "execution_count": 18,
   "id": "aa53181d",
   "metadata": {},
   "outputs": [
    {
     "data": {
      "text/plain": [
       "offense_type_id\n",
       "theft-of-motor-vehicle       54834\n",
       "theft-items-from-vehicle     39154\n",
       "theft-parts-from-vehicle     25486\n",
       "criminal-mischief-mtr-veh    24713\n",
       "theft-other                  23340\n",
       "                             ...  \n",
       "bigamy                           1\n",
       "liquor-other-viol                1\n",
       "drug-barbiturate-mfr             1\n",
       "theft-of-cable-services          1\n",
       "homicide-accessory-to            1\n",
       "Name: count, Length: 186, dtype: int64"
      ]
     },
     "execution_count": 18,
     "metadata": {},
     "output_type": "execute_result"
    }
   ],
   "source": [
    "data.offense_type_id.value_counts()"
   ]
  },
  {
   "cell_type": "code",
   "execution_count": 19,
   "id": "830fb43d",
   "metadata": {},
   "outputs": [
    {
     "data": {
      "text/plain": [
       "neighborhood_id\n",
       "five-points     23074\n",
       "central-park    17864\n",
       "capitol-hill    14655\n",
       "cbd             14651\n",
       "dia             14642\n",
       "                ...  \n",
       "skyland          1155\n",
       "rosedale         1100\n",
       "country-club      887\n",
       "indian-creek      718\n",
       "wellshire         381\n",
       "Name: count, Length: 78, dtype: int64"
      ]
     },
     "execution_count": 19,
     "metadata": {},
     "output_type": "execute_result"
    }
   ],
   "source": [
    "data.neighborhood_id.value_counts()"
   ]
  },
  {
   "cell_type": "code",
   "execution_count": 20,
   "id": "b3ca62cf",
   "metadata": {
    "scrolled": true
   },
   "outputs": [
    {
     "data": {
      "text/plain": [
       "district_id\n",
       "3    86888\n",
       "6    85911\n",
       "1    58880\n",
       "2    54072\n",
       "4    45873\n",
       "5    45530\n",
       "7     9186\n",
       "U      468\n",
       "Name: count, dtype: int64"
      ]
     },
     "execution_count": 20,
     "metadata": {},
     "output_type": "execute_result"
    }
   ],
   "source": [
    "data.district_id.value_counts()"
   ]
  },
  {
   "cell_type": "markdown",
   "id": "e9a713fb",
   "metadata": {},
   "source": [
    "## REMOVING AND IMPUTING NULL VALUES\n",
    "<P></P>"
   ]
  },
  {
   "cell_type": "code",
   "execution_count": 21,
   "id": "6603d952",
   "metadata": {},
   "outputs": [
    {
     "data": {
      "text/plain": [
       "incident_id                    0\n",
       "offense_code                   0\n",
       "offense_code_extension         0\n",
       "offense_type_id                0\n",
       "offense_category_id            0\n",
       "first_occurrence_date          0\n",
       "last_occurrence_date      175556\n",
       "reported_date                  0\n",
       "incident_address           15503\n",
       "geo_x                      15503\n",
       "geo_y                      15503\n",
       "geo_lon                    15769\n",
       "geo_lat                    15769\n",
       "district_id                   57\n",
       "precinct_id                    0\n",
       "neighborhood_id              689\n",
       "is_crime                       0\n",
       "is_traffic                     0\n",
       "victim_count                   0\n",
       "dtype: int64"
      ]
     },
     "execution_count": 21,
     "metadata": {},
     "output_type": "execute_result"
    }
   ],
   "source": [
    "#check column with NaN\n",
    "data.isnull().sum()"
   ]
  },
  {
   "cell_type": "code",
   "execution_count": 22,
   "id": "b734ec20",
   "metadata": {},
   "outputs": [
    {
     "name": "stdout",
     "output_type": "stream",
     "text": [
      "Percent of missing \"last occurence date\" records : 45.38%\n",
      "Percent of missing \"incident address\" records : 4.01%\n",
      "Percent of missing \"geo x\" records : 4.01%\n",
      "Percent of missing \"geo y\" records : 4.01%\n",
      "Percent of missing \"geo longitude\" records : 4.08%\n",
      "Percent of missing \"geo latitude\" records : 4.08%\n",
      "Percent of missing \"district id\" records : 0.01%\n",
      "Percent of missing \"neighborhood id\" records : 0.18%\n"
     ]
    }
   ],
   "source": [
    "#check percentage of missing in every columns\n",
    "# percent of missing \"last_occurrence_date\" \n",
    "print('Percent of missing \"last occurence date\" records : %.2f%%' %((data['last_occurrence_date'].isnull().sum()/data.shape[0])*100))\n",
    "# percent of missing \"incident_address\" \n",
    "print('Percent of missing \"incident address\" records : %.2f%%' %((data['incident_address'].isnull().sum()/data.shape[0])*100))\n",
    "# percent of missing \"geo_x\" \n",
    "print('Percent of missing \"geo x\" records : %.2f%%' %((data['geo_x'].isnull().sum()/data.shape[0])*100))\n",
    "# percent of missing \"geo_y\" \n",
    "print('Percent of missing \"geo y\" records : %.2f%%' %((data['geo_y'].isnull().sum()/data.shape[0])*100))\n",
    "# percent of missing \"geo_lon\" \n",
    "print('Percent of missing \"geo longitude\" records : %.2f%%' %((data['geo_lon'].isnull().sum()/data.shape[0])*100))\n",
    "# percent of missing \"geo_lat\" \n",
    "print('Percent of missing \"geo latitude\" records : %.2f%%' %((data['geo_lat'].isnull().sum()/data.shape[0])*100))\n",
    "# percent of missing \"district_id\" \n",
    "print('Percent of missing \"district id\" records : %.2f%%' %((data['district_id'].isnull().sum()/data.shape[0])*100))\n",
    "# percent of missing \"neighborhood_id\" \n",
    "print('Percent of missing \"neighborhood id\" records : %.2f%%' %((data['neighborhood_id'].isnull().sum()/data.shape[0])*100))"
   ]
  },
  {
   "cell_type": "markdown",
   "id": "bac9fceb",
   "metadata": {},
   "source": [
    "## Actions\n",
    "<table>\n",
    "    <tr>\n",
    "    <th>Last occurrence date</th>\n",
    "    <th>Incident Address</th>\n",
    "    <th>Geo X</th>\n",
    "    <th>Geo Y</th>\n",
    "    <th>Geo Longitude</th>\n",
    "    <th>Geo Latitude</th>\n",
    "    <th>District ID</th>\n",
    "    <th>Neighborhood ID</th>\n",
    "    </tr>\n",
    "    <tr>\n",
    "        <td>Substitute with first occurrence data</td>\n",
    "        <td>Remove the column</td>\n",
    "        <td>Remove the column</td>\n",
    "        <td>Remove the column</td>\n",
    "        <td>Frequent Substituition</td>\n",
    "        <td>Frequent Substituition</td>\n",
    "        <td>Frequent Substituition</td>\n",
    "        <td>Frequent Substituition</td>\n",
    "    </tr>\n",
    "</table>\n"
   ]
  },
  {
   "cell_type": "code",
   "execution_count": 23,
   "id": "42ca5f67",
   "metadata": {},
   "outputs": [],
   "source": [
    "# Substitute missing 'Last occurrence date' with the 'First occurrence date'\n",
    "data['last_occurrence_date'].fillna(data['first_occurrence_date'], inplace=True)\n",
    "\n",
    "#Drop geo_x column\n",
    "data.drop('geo_x', axis=1, inplace=True)\n",
    "\n",
    "#Drop geo_y column\n",
    "data.drop('geo_y', axis=1, inplace=True)\n",
    "\n",
    "#Drop incident_address column\n",
    "data.drop('incident_address', axis=1, inplace=True)\n",
    "\n",
    "#Substitute with mode (frequent substituition)\n",
    "data['geo_lat'].fillna(data['geo_lat'].mode()[0], inplace=True)\n",
    "\n",
    "#Substitute with mode (frequent substituition)\n",
    "data['geo_lon'].fillna(data['geo_lon'].mode()[0], inplace=True)\n",
    "\n",
    "#Substitute with mode (frequent substituition)\n",
    "data['district_id'].fillna(data['district_id'].mode()[0], inplace=True)\n",
    "\n",
    "#Substitute with mode (frequent substituition)\n",
    "data['neighborhood_id'].fillna(data['neighborhood_id'].mode()[0], inplace=True)\n"
   ]
  },
  {
   "cell_type": "code",
   "execution_count": 24,
   "id": "33af8eaf",
   "metadata": {},
   "outputs": [
    {
     "data": {
      "text/plain": [
       "incident_id               0\n",
       "offense_code              0\n",
       "offense_code_extension    0\n",
       "offense_type_id           0\n",
       "offense_category_id       0\n",
       "first_occurrence_date     0\n",
       "last_occurrence_date      0\n",
       "reported_date             0\n",
       "geo_lon                   0\n",
       "geo_lat                   0\n",
       "district_id               0\n",
       "precinct_id               0\n",
       "neighborhood_id           0\n",
       "is_crime                  0\n",
       "is_traffic                0\n",
       "victim_count              0\n",
       "dtype: int64"
      ]
     },
     "execution_count": 24,
     "metadata": {},
     "output_type": "execute_result"
    }
   ],
   "source": [
    "data.isnull().sum()"
   ]
  },
  {
   "cell_type": "markdown",
   "id": "c9132968",
   "metadata": {},
   "source": [
    "## ENCODE CATEGORICAL FEATURES\n",
    "<p></p>"
   ]
  },
  {
   "cell_type": "code",
   "execution_count": 25,
   "id": "d1a900df",
   "metadata": {},
   "outputs": [],
   "source": [
    "from sklearn.preprocessing import LabelEncoder\n",
    "\n",
    "categorical_columns = data.select_dtypes(include=['object']).columns\n",
    "le=LabelEncoder()\n",
    "\n",
    "for col in categorical_columns:\n",
    "    data[col] = le.fit_transform(data[col])"
   ]
  },
  {
   "cell_type": "code",
   "execution_count": 26,
   "id": "840944f1",
   "metadata": {},
   "outputs": [
    {
     "data": {
      "text/html": [
       "<div>\n",
       "<style scoped>\n",
       "    .dataframe tbody tr th:only-of-type {\n",
       "        vertical-align: middle;\n",
       "    }\n",
       "\n",
       "    .dataframe tbody tr th {\n",
       "        vertical-align: top;\n",
       "    }\n",
       "\n",
       "    .dataframe thead th {\n",
       "        text-align: right;\n",
       "    }\n",
       "</style>\n",
       "<table border=\"1\" class=\"dataframe\">\n",
       "  <thead>\n",
       "    <tr style=\"text-align: right;\">\n",
       "      <th></th>\n",
       "      <th>incident_id</th>\n",
       "      <th>offense_code</th>\n",
       "      <th>offense_code_extension</th>\n",
       "      <th>offense_type_id</th>\n",
       "      <th>offense_category_id</th>\n",
       "      <th>first_occurrence_date</th>\n",
       "      <th>last_occurrence_date</th>\n",
       "      <th>reported_date</th>\n",
       "      <th>geo_lon</th>\n",
       "      <th>geo_lat</th>\n",
       "      <th>district_id</th>\n",
       "      <th>precinct_id</th>\n",
       "      <th>neighborhood_id</th>\n",
       "      <th>is_crime</th>\n",
       "      <th>is_traffic</th>\n",
       "      <th>victim_count</th>\n",
       "    </tr>\n",
       "    <tr>\n",
       "      <th>offense_id</th>\n",
       "      <th></th>\n",
       "      <th></th>\n",
       "      <th></th>\n",
       "      <th></th>\n",
       "      <th></th>\n",
       "      <th></th>\n",
       "      <th></th>\n",
       "      <th></th>\n",
       "      <th></th>\n",
       "      <th></th>\n",
       "      <th></th>\n",
       "      <th></th>\n",
       "      <th></th>\n",
       "      <th></th>\n",
       "      <th></th>\n",
       "      <th></th>\n",
       "    </tr>\n",
       "  </thead>\n",
       "  <tbody>\n",
       "    <tr>\n",
       "      <th>202268791299900</th>\n",
       "      <td>202268791</td>\n",
       "      <td>2999</td>\n",
       "      <td>0</td>\n",
       "      <td>35</td>\n",
       "      <td>9</td>\n",
       "      <td>73066</td>\n",
       "      <td>79957</td>\n",
       "      <td>101214</td>\n",
       "      <td>-104.998910</td>\n",
       "      <td>39.733957</td>\n",
       "      <td>0</td>\n",
       "      <td>123</td>\n",
       "      <td>41</td>\n",
       "      <td>1</td>\n",
       "      <td>0</td>\n",
       "      <td>1</td>\n",
       "    </tr>\n",
       "    <tr>\n",
       "      <th>2021387586299900</th>\n",
       "      <td>2021387586</td>\n",
       "      <td>2999</td>\n",
       "      <td>0</td>\n",
       "      <td>35</td>\n",
       "      <td>9</td>\n",
       "      <td>194746</td>\n",
       "      <td>213013</td>\n",
       "      <td>271669</td>\n",
       "      <td>-104.993342</td>\n",
       "      <td>39.746248</td>\n",
       "      <td>5</td>\n",
       "      <td>611</td>\n",
       "      <td>9</td>\n",
       "      <td>1</td>\n",
       "      <td>0</td>\n",
       "      <td>1</td>\n",
       "    </tr>\n",
       "    <tr>\n",
       "      <th>2020641486299900</th>\n",
       "      <td>2020641486</td>\n",
       "      <td>2999</td>\n",
       "      <td>0</td>\n",
       "      <td>35</td>\n",
       "      <td>9</td>\n",
       "      <td>32943</td>\n",
       "      <td>36043</td>\n",
       "      <td>45656</td>\n",
       "      <td>-105.025520</td>\n",
       "      <td>39.782888</td>\n",
       "      <td>0</td>\n",
       "      <td>111</td>\n",
       "      <td>7</td>\n",
       "      <td>1</td>\n",
       "      <td>0</td>\n",
       "      <td>1</td>\n",
       "    </tr>\n",
       "    <tr>\n",
       "      <th>2018612468299900</th>\n",
       "      <td>2018612468</td>\n",
       "      <td>2999</td>\n",
       "      <td>0</td>\n",
       "      <td>35</td>\n",
       "      <td>9</td>\n",
       "      <td>238231</td>\n",
       "      <td>260595</td>\n",
       "      <td>333054</td>\n",
       "      <td>-105.025330</td>\n",
       "      <td>39.715357</td>\n",
       "      <td>3</td>\n",
       "      <td>411</td>\n",
       "      <td>3</td>\n",
       "      <td>1</td>\n",
       "      <td>0</td>\n",
       "      <td>1</td>\n",
       "    </tr>\n",
       "    <tr>\n",
       "      <th>2020293614299900</th>\n",
       "      <td>2020293614</td>\n",
       "      <td>2999</td>\n",
       "      <td>0</td>\n",
       "      <td>35</td>\n",
       "      <td>9</td>\n",
       "      <td>151242</td>\n",
       "      <td>165311</td>\n",
       "      <td>184448</td>\n",
       "      <td>-104.845074</td>\n",
       "      <td>39.783082</td>\n",
       "      <td>4</td>\n",
       "      <td>521</td>\n",
       "      <td>45</td>\n",
       "      <td>1</td>\n",
       "      <td>0</td>\n",
       "      <td>1</td>\n",
       "    </tr>\n",
       "  </tbody>\n",
       "</table>\n",
       "</div>"
      ],
      "text/plain": [
       "                  incident_id  offense_code  offense_code_extension  \\\n",
       "offense_id                                                            \n",
       "202268791299900     202268791          2999                       0   \n",
       "2021387586299900   2021387586          2999                       0   \n",
       "2020641486299900   2020641486          2999                       0   \n",
       "2018612468299900   2018612468          2999                       0   \n",
       "2020293614299900   2020293614          2999                       0   \n",
       "\n",
       "                  offense_type_id  offense_category_id  first_occurrence_date  \\\n",
       "offense_id                                                                      \n",
       "202268791299900                35                    9                  73066   \n",
       "2021387586299900               35                    9                 194746   \n",
       "2020641486299900               35                    9                  32943   \n",
       "2018612468299900               35                    9                 238231   \n",
       "2020293614299900               35                    9                 151242   \n",
       "\n",
       "                  last_occurrence_date  reported_date     geo_lon    geo_lat  \\\n",
       "offense_id                                                                     \n",
       "202268791299900                  79957         101214 -104.998910  39.733957   \n",
       "2021387586299900                213013         271669 -104.993342  39.746248   \n",
       "2020641486299900                 36043          45656 -105.025520  39.782888   \n",
       "2018612468299900                260595         333054 -105.025330  39.715357   \n",
       "2020293614299900                165311         184448 -104.845074  39.783082   \n",
       "\n",
       "                  district_id  precinct_id  neighborhood_id  is_crime  \\\n",
       "offense_id                                                              \n",
       "202268791299900             0          123               41         1   \n",
       "2021387586299900            5          611                9         1   \n",
       "2020641486299900            0          111                7         1   \n",
       "2018612468299900            3          411                3         1   \n",
       "2020293614299900            4          521               45         1   \n",
       "\n",
       "                  is_traffic  victim_count  \n",
       "offense_id                                  \n",
       "202268791299900            0             1  \n",
       "2021387586299900           0             1  \n",
       "2020641486299900           0             1  \n",
       "2018612468299900           0             1  \n",
       "2020293614299900           0             1  "
      ]
     },
     "execution_count": 26,
     "metadata": {},
     "output_type": "execute_result"
    }
   ],
   "source": [
    "data.head()"
   ]
  },
  {
   "cell_type": "markdown",
   "id": "45470282",
   "metadata": {},
   "source": [
    "## SELECTING RELEVANT FEATURES\n",
    "<p></p>"
   ]
  },
  {
   "cell_type": "code",
   "execution_count": 27,
   "id": "de6f6d4b",
   "metadata": {},
   "outputs": [
    {
     "data": {
      "text/html": [
       "<div>\n",
       "<style scoped>\n",
       "    .dataframe tbody tr th:only-of-type {\n",
       "        vertical-align: middle;\n",
       "    }\n",
       "\n",
       "    .dataframe tbody tr th {\n",
       "        vertical-align: top;\n",
       "    }\n",
       "\n",
       "    .dataframe thead th {\n",
       "        text-align: right;\n",
       "    }\n",
       "</style>\n",
       "<table border=\"1\" class=\"dataframe\">\n",
       "  <thead>\n",
       "    <tr style=\"text-align: right;\">\n",
       "      <th></th>\n",
       "      <th>incident_id</th>\n",
       "      <th>offense_code</th>\n",
       "      <th>offense_code_extension</th>\n",
       "      <th>offense_type_id</th>\n",
       "      <th>offense_category_id</th>\n",
       "      <th>first_occurrence_date</th>\n",
       "      <th>last_occurrence_date</th>\n",
       "      <th>reported_date</th>\n",
       "      <th>geo_lon</th>\n",
       "      <th>geo_lat</th>\n",
       "      <th>district_id</th>\n",
       "      <th>precinct_id</th>\n",
       "      <th>neighborhood_id</th>\n",
       "      <th>is_crime</th>\n",
       "      <th>is_traffic</th>\n",
       "      <th>victim_count</th>\n",
       "      <th>victim_count_category</th>\n",
       "    </tr>\n",
       "    <tr>\n",
       "      <th>offense_id</th>\n",
       "      <th></th>\n",
       "      <th></th>\n",
       "      <th></th>\n",
       "      <th></th>\n",
       "      <th></th>\n",
       "      <th></th>\n",
       "      <th></th>\n",
       "      <th></th>\n",
       "      <th></th>\n",
       "      <th></th>\n",
       "      <th></th>\n",
       "      <th></th>\n",
       "      <th></th>\n",
       "      <th></th>\n",
       "      <th></th>\n",
       "      <th></th>\n",
       "      <th></th>\n",
       "    </tr>\n",
       "  </thead>\n",
       "  <tbody>\n",
       "    <tr>\n",
       "      <th>202268791299900</th>\n",
       "      <td>202268791</td>\n",
       "      <td>2999</td>\n",
       "      <td>0</td>\n",
       "      <td>35</td>\n",
       "      <td>9</td>\n",
       "      <td>73066</td>\n",
       "      <td>79957</td>\n",
       "      <td>101214</td>\n",
       "      <td>-104.998910</td>\n",
       "      <td>39.733957</td>\n",
       "      <td>0</td>\n",
       "      <td>123</td>\n",
       "      <td>41</td>\n",
       "      <td>1</td>\n",
       "      <td>0</td>\n",
       "      <td>1</td>\n",
       "      <td>0</td>\n",
       "    </tr>\n",
       "    <tr>\n",
       "      <th>2021387586299900</th>\n",
       "      <td>2021387586</td>\n",
       "      <td>2999</td>\n",
       "      <td>0</td>\n",
       "      <td>35</td>\n",
       "      <td>9</td>\n",
       "      <td>194746</td>\n",
       "      <td>213013</td>\n",
       "      <td>271669</td>\n",
       "      <td>-104.993342</td>\n",
       "      <td>39.746248</td>\n",
       "      <td>5</td>\n",
       "      <td>611</td>\n",
       "      <td>9</td>\n",
       "      <td>1</td>\n",
       "      <td>0</td>\n",
       "      <td>1</td>\n",
       "      <td>0</td>\n",
       "    </tr>\n",
       "    <tr>\n",
       "      <th>2020641486299900</th>\n",
       "      <td>2020641486</td>\n",
       "      <td>2999</td>\n",
       "      <td>0</td>\n",
       "      <td>35</td>\n",
       "      <td>9</td>\n",
       "      <td>32943</td>\n",
       "      <td>36043</td>\n",
       "      <td>45656</td>\n",
       "      <td>-105.025520</td>\n",
       "      <td>39.782888</td>\n",
       "      <td>0</td>\n",
       "      <td>111</td>\n",
       "      <td>7</td>\n",
       "      <td>1</td>\n",
       "      <td>0</td>\n",
       "      <td>1</td>\n",
       "      <td>0</td>\n",
       "    </tr>\n",
       "    <tr>\n",
       "      <th>2018612468299900</th>\n",
       "      <td>2018612468</td>\n",
       "      <td>2999</td>\n",
       "      <td>0</td>\n",
       "      <td>35</td>\n",
       "      <td>9</td>\n",
       "      <td>238231</td>\n",
       "      <td>260595</td>\n",
       "      <td>333054</td>\n",
       "      <td>-105.025330</td>\n",
       "      <td>39.715357</td>\n",
       "      <td>3</td>\n",
       "      <td>411</td>\n",
       "      <td>3</td>\n",
       "      <td>1</td>\n",
       "      <td>0</td>\n",
       "      <td>1</td>\n",
       "      <td>0</td>\n",
       "    </tr>\n",
       "    <tr>\n",
       "      <th>2020293614299900</th>\n",
       "      <td>2020293614</td>\n",
       "      <td>2999</td>\n",
       "      <td>0</td>\n",
       "      <td>35</td>\n",
       "      <td>9</td>\n",
       "      <td>151242</td>\n",
       "      <td>165311</td>\n",
       "      <td>184448</td>\n",
       "      <td>-104.845074</td>\n",
       "      <td>39.783082</td>\n",
       "      <td>4</td>\n",
       "      <td>521</td>\n",
       "      <td>45</td>\n",
       "      <td>1</td>\n",
       "      <td>0</td>\n",
       "      <td>1</td>\n",
       "      <td>0</td>\n",
       "    </tr>\n",
       "  </tbody>\n",
       "</table>\n",
       "</div>"
      ],
      "text/plain": [
       "                  incident_id  offense_code  offense_code_extension  \\\n",
       "offense_id                                                            \n",
       "202268791299900     202268791          2999                       0   \n",
       "2021387586299900   2021387586          2999                       0   \n",
       "2020641486299900   2020641486          2999                       0   \n",
       "2018612468299900   2018612468          2999                       0   \n",
       "2020293614299900   2020293614          2999                       0   \n",
       "\n",
       "                  offense_type_id  offense_category_id  first_occurrence_date  \\\n",
       "offense_id                                                                      \n",
       "202268791299900                35                    9                  73066   \n",
       "2021387586299900               35                    9                 194746   \n",
       "2020641486299900               35                    9                  32943   \n",
       "2018612468299900               35                    9                 238231   \n",
       "2020293614299900               35                    9                 151242   \n",
       "\n",
       "                  last_occurrence_date  reported_date     geo_lon    geo_lat  \\\n",
       "offense_id                                                                     \n",
       "202268791299900                  79957         101214 -104.998910  39.733957   \n",
       "2021387586299900                213013         271669 -104.993342  39.746248   \n",
       "2020641486299900                 36043          45656 -105.025520  39.782888   \n",
       "2018612468299900                260595         333054 -105.025330  39.715357   \n",
       "2020293614299900                165311         184448 -104.845074  39.783082   \n",
       "\n",
       "                  district_id  precinct_id  neighborhood_id  is_crime  \\\n",
       "offense_id                                                              \n",
       "202268791299900             0          123               41         1   \n",
       "2021387586299900            5          611                9         1   \n",
       "2020641486299900            0          111                7         1   \n",
       "2018612468299900            3          411                3         1   \n",
       "2020293614299900            4          521               45         1   \n",
       "\n",
       "                  is_traffic  victim_count  victim_count_category  \n",
       "offense_id                                                         \n",
       "202268791299900            0             1                      0  \n",
       "2021387586299900           0             1                      0  \n",
       "2020641486299900           0             1                      0  \n",
       "2018612468299900           0             1                      0  \n",
       "2020293614299900           0             1                      0  "
      ]
     },
     "execution_count": 27,
     "metadata": {},
     "output_type": "execute_result"
    }
   ],
   "source": [
    "# Define the thresholds for categorization\n",
    "low_threshold = 1\n",
    "high_threshold = 3\n",
    "\n",
    "# Create a function to categorize victim counts\n",
    "def categorize_victim_count(count):\n",
    "    if count <= low_threshold:\n",
    "        return 0  # Low\n",
    "    elif count <= high_threshold:\n",
    "        return 1  # Medium\n",
    "    else:\n",
    "        return 2  # High\n",
    "\n",
    "# Apply the function to create a new column with the categories\n",
    "data['victim_count_category'] = data['victim_count'].apply(categorize_victim_count)\n",
    "\n",
    "# Print the first few rows to verify the result\n",
    "data.head()"
   ]
  },
  {
   "cell_type": "code",
   "execution_count": 28,
   "id": "658d248a-29b1-4bff-a406-10fbd97c3f5a",
   "metadata": {},
   "outputs": [
    {
     "data": {
      "text/plain": [
       "victim_count\n",
       "1     381901\n",
       "2       3594\n",
       "3        732\n",
       "4        274\n",
       "5        167\n",
       "6         81\n",
       "7         50\n",
       "8         27\n",
       "9         13\n",
       "14         5\n",
       "10         5\n",
       "11         4\n",
       "13         4\n",
       "12         3\n",
       "16         2\n",
       "15         1\n",
       "17         1\n",
       "19         1\n",
       "Name: count, dtype: int64"
      ]
     },
     "execution_count": 28,
     "metadata": {},
     "output_type": "execute_result"
    }
   ],
   "source": [
    "data.victim_count.value_counts()"
   ]
  },
  {
   "cell_type": "code",
   "execution_count": 29,
   "id": "667b1639-cfbd-4b02-bf2a-48872563444b",
   "metadata": {},
   "outputs": [
    {
     "data": {
      "text/plain": [
       "victim_count_category\n",
       "0    381901\n",
       "1      4326\n",
       "2       638\n",
       "Name: count, dtype: int64"
      ]
     },
     "execution_count": 29,
     "metadata": {},
     "output_type": "execute_result"
    }
   ],
   "source": [
    "data.victim_count_category.value_counts()"
   ]
  },
  {
   "cell_type": "code",
   "execution_count": 30,
   "id": "f55a6e79",
   "metadata": {},
   "outputs": [],
   "source": [
    "#Features using top features\n",
    "X=data.drop(['victim_count','victim_count_category'], axis=1)\n",
    "\n",
    "#Target\n",
    "y=data.victim_count_category"
   ]
  },
  {
   "cell_type": "code",
   "execution_count": 31,
   "id": "0797ab4f",
   "metadata": {},
   "outputs": [
    {
     "data": {
      "text/html": [
       "<div>\n",
       "<style scoped>\n",
       "    .dataframe tbody tr th:only-of-type {\n",
       "        vertical-align: middle;\n",
       "    }\n",
       "\n",
       "    .dataframe tbody tr th {\n",
       "        vertical-align: top;\n",
       "    }\n",
       "\n",
       "    .dataframe thead th {\n",
       "        text-align: right;\n",
       "    }\n",
       "</style>\n",
       "<table border=\"1\" class=\"dataframe\">\n",
       "  <thead>\n",
       "    <tr style=\"text-align: right;\">\n",
       "      <th></th>\n",
       "      <th>importance</th>\n",
       "    </tr>\n",
       "    <tr>\n",
       "      <th>feature</th>\n",
       "      <th></th>\n",
       "    </tr>\n",
       "  </thead>\n",
       "  <tbody>\n",
       "    <tr>\n",
       "      <th>incident_id</th>\n",
       "      <td>0.136</td>\n",
       "    </tr>\n",
       "    <tr>\n",
       "      <th>first_occurrence_date</th>\n",
       "      <td>0.128</td>\n",
       "    </tr>\n",
       "    <tr>\n",
       "      <th>last_occurrence_date</th>\n",
       "      <td>0.128</td>\n",
       "    </tr>\n",
       "    <tr>\n",
       "      <th>reported_date</th>\n",
       "      <td>0.126</td>\n",
       "    </tr>\n",
       "    <tr>\n",
       "      <th>geo_lon</th>\n",
       "      <td>0.113</td>\n",
       "    </tr>\n",
       "    <tr>\n",
       "      <th>geo_lat</th>\n",
       "      <td>0.111</td>\n",
       "    </tr>\n",
       "    <tr>\n",
       "      <th>offense_code</th>\n",
       "      <td>0.054</td>\n",
       "    </tr>\n",
       "    <tr>\n",
       "      <th>offense_type_id</th>\n",
       "      <td>0.047</td>\n",
       "    </tr>\n",
       "    <tr>\n",
       "      <th>neighborhood_id</th>\n",
       "      <td>0.045</td>\n",
       "    </tr>\n",
       "    <tr>\n",
       "      <th>offense_category_id</th>\n",
       "      <td>0.040</td>\n",
       "    </tr>\n",
       "    <tr>\n",
       "      <th>precinct_id</th>\n",
       "      <td>0.036</td>\n",
       "    </tr>\n",
       "    <tr>\n",
       "      <th>offense_code_extension</th>\n",
       "      <td>0.024</td>\n",
       "    </tr>\n",
       "    <tr>\n",
       "      <th>district_id</th>\n",
       "      <td>0.012</td>\n",
       "    </tr>\n",
       "    <tr>\n",
       "      <th>is_crime</th>\n",
       "      <td>0.000</td>\n",
       "    </tr>\n",
       "    <tr>\n",
       "      <th>is_traffic</th>\n",
       "      <td>0.000</td>\n",
       "    </tr>\n",
       "  </tbody>\n",
       "</table>\n",
       "</div>"
      ],
      "text/plain": [
       "                        importance\n",
       "feature                           \n",
       "incident_id                  0.136\n",
       "first_occurrence_date        0.128\n",
       "last_occurrence_date         0.128\n",
       "reported_date                0.126\n",
       "geo_lon                      0.113\n",
       "geo_lat                      0.111\n",
       "offense_code                 0.054\n",
       "offense_type_id              0.047\n",
       "neighborhood_id              0.045\n",
       "offense_category_id          0.040\n",
       "precinct_id                  0.036\n",
       "offense_code_extension       0.024\n",
       "district_id                  0.012\n",
       "is_crime                     0.000\n",
       "is_traffic                   0.000"
      ]
     },
     "execution_count": 31,
     "metadata": {},
     "output_type": "execute_result"
    }
   ],
   "source": [
    "#USING FEATURE IMPORTANCE FROM RANDOM FOREST\n",
    "from sklearn.ensemble import RandomForestClassifier\n",
    "\n",
    "fi=RandomForestClassifier()\n",
    "fi.fit(X,y)\n",
    "\n",
    "importances = pd.DataFrame({'feature':X.columns,'importance':np.round(fi.feature_importances_,3)})\n",
    "importances = importances.sort_values('importance',ascending=False).set_index('feature')\n",
    "importances"
   ]
  },
  {
   "cell_type": "code",
   "execution_count": 32,
   "id": "cb7b4ec0",
   "metadata": {},
   "outputs": [
    {
     "data": {
      "text/plain": [
       "<Axes: ylabel='feature'>"
      ]
     },
     "execution_count": 32,
     "metadata": {},
     "output_type": "execute_result"
    },
    {
     "data": {
      "image/png": "[encoded data removed]",
      "text/plain": [
       "<Figure size 640x480 with 1 Axes>"
      ]
     },
     "metadata": {},
     "output_type": "display_data"
    }
   ],
   "source": [
    "#Visualize the feature importances using bar chart (horizontal)\n",
    "importances.plot(kind='barh')"
   ]
  },
  {
   "cell_type": "code",
   "execution_count": 33,
   "id": "6929c7d5",
   "metadata": {},
   "outputs": [
    {
     "data": {
      "text/plain": [
       "['incident_id',\n",
       " 'offense_code',\n",
       " 'offense_type_id',\n",
       " 'first_occurrence_date',\n",
       " 'last_occurrence_date',\n",
       " 'reported_date',\n",
       " 'geo_lon',\n",
       " 'geo_lat',\n",
       " 'precinct_id',\n",
       " 'neighborhood_id',\n",
       " 'victim_count_category']"
      ]
     },
     "execution_count": 33,
     "metadata": {},
     "output_type": "execute_result"
    }
   ],
   "source": [
    "#List of top features from feature importances and target (neighborhood_id)\n",
    "\n",
    "# List of features to exclude\n",
    "exclude_cols = ['is_traffic', 'is_crime', 'district_id', 'offense_category_id', 'offense_code_extension', 'victim_count']\n",
    "\n",
    "# List of all columns except the ones to exclude\n",
    "all_cols = data.columns.tolist()\n",
    "\n",
    "# List of top features excluding the excluded ones\n",
    "top_col = [col for col in all_cols if col not in exclude_cols]\n",
    "\n",
    "top_col"
   ]
  },
  {
   "cell_type": "code",
   "execution_count": 34,
   "id": "59dac3b4",
   "metadata": {},
   "outputs": [
    {
     "data": {
      "text/html": [
       "<div>\n",
       "<style scoped>\n",
       "    .dataframe tbody tr th:only-of-type {\n",
       "        vertical-align: middle;\n",
       "    }\n",
       "\n",
       "    .dataframe tbody tr th {\n",
       "        vertical-align: top;\n",
       "    }\n",
       "\n",
       "    .dataframe thead th {\n",
       "        text-align: right;\n",
       "    }\n",
       "</style>\n",
       "<table border=\"1\" class=\"dataframe\">\n",
       "  <thead>\n",
       "    <tr style=\"text-align: right;\">\n",
       "      <th></th>\n",
       "      <th>incident_id</th>\n",
       "      <th>offense_code</th>\n",
       "      <th>offense_type_id</th>\n",
       "      <th>first_occurrence_date</th>\n",
       "      <th>last_occurrence_date</th>\n",
       "      <th>reported_date</th>\n",
       "      <th>geo_lon</th>\n",
       "      <th>geo_lat</th>\n",
       "      <th>precinct_id</th>\n",
       "      <th>neighborhood_id</th>\n",
       "      <th>victim_count_category</th>\n",
       "    </tr>\n",
       "    <tr>\n",
       "      <th>offense_id</th>\n",
       "      <th></th>\n",
       "      <th></th>\n",
       "      <th></th>\n",
       "      <th></th>\n",
       "      <th></th>\n",
       "      <th></th>\n",
       "      <th></th>\n",
       "      <th></th>\n",
       "      <th></th>\n",
       "      <th></th>\n",
       "      <th></th>\n",
       "    </tr>\n",
       "  </thead>\n",
       "  <tbody>\n",
       "    <tr>\n",
       "      <th>202268791299900</th>\n",
       "      <td>202268791</td>\n",
       "      <td>2999</td>\n",
       "      <td>35</td>\n",
       "      <td>73066</td>\n",
       "      <td>79957</td>\n",
       "      <td>101214</td>\n",
       "      <td>-104.998910</td>\n",
       "      <td>39.733957</td>\n",
       "      <td>123</td>\n",
       "      <td>41</td>\n",
       "      <td>0</td>\n",
       "    </tr>\n",
       "    <tr>\n",
       "      <th>2021387586299900</th>\n",
       "      <td>2021387586</td>\n",
       "      <td>2999</td>\n",
       "      <td>35</td>\n",
       "      <td>194746</td>\n",
       "      <td>213013</td>\n",
       "      <td>271669</td>\n",
       "      <td>-104.993342</td>\n",
       "      <td>39.746248</td>\n",
       "      <td>611</td>\n",
       "      <td>9</td>\n",
       "      <td>0</td>\n",
       "    </tr>\n",
       "    <tr>\n",
       "      <th>2020641486299900</th>\n",
       "      <td>2020641486</td>\n",
       "      <td>2999</td>\n",
       "      <td>35</td>\n",
       "      <td>32943</td>\n",
       "      <td>36043</td>\n",
       "      <td>45656</td>\n",
       "      <td>-105.025520</td>\n",
       "      <td>39.782888</td>\n",
       "      <td>111</td>\n",
       "      <td>7</td>\n",
       "      <td>0</td>\n",
       "    </tr>\n",
       "    <tr>\n",
       "      <th>2018612468299900</th>\n",
       "      <td>2018612468</td>\n",
       "      <td>2999</td>\n",
       "      <td>35</td>\n",
       "      <td>238231</td>\n",
       "      <td>260595</td>\n",
       "      <td>333054</td>\n",
       "      <td>-105.025330</td>\n",
       "      <td>39.715357</td>\n",
       "      <td>411</td>\n",
       "      <td>3</td>\n",
       "      <td>0</td>\n",
       "    </tr>\n",
       "    <tr>\n",
       "      <th>2020293614299900</th>\n",
       "      <td>2020293614</td>\n",
       "      <td>2999</td>\n",
       "      <td>35</td>\n",
       "      <td>151242</td>\n",
       "      <td>165311</td>\n",
       "      <td>184448</td>\n",
       "      <td>-104.845074</td>\n",
       "      <td>39.783082</td>\n",
       "      <td>521</td>\n",
       "      <td>45</td>\n",
       "      <td>0</td>\n",
       "    </tr>\n",
       "  </tbody>\n",
       "</table>\n",
       "</div>"
      ],
      "text/plain": [
       "                  incident_id  offense_code  offense_type_id  \\\n",
       "offense_id                                                     \n",
       "202268791299900     202268791          2999               35   \n",
       "2021387586299900   2021387586          2999               35   \n",
       "2020641486299900   2020641486          2999               35   \n",
       "2018612468299900   2018612468          2999               35   \n",
       "2020293614299900   2020293614          2999               35   \n",
       "\n",
       "                  first_occurrence_date  last_occurrence_date  reported_date  \\\n",
       "offense_id                                                                     \n",
       "202268791299900                   73066                 79957         101214   \n",
       "2021387586299900                 194746                213013         271669   \n",
       "2020641486299900                  32943                 36043          45656   \n",
       "2018612468299900                 238231                260595         333054   \n",
       "2020293614299900                 151242                165311         184448   \n",
       "\n",
       "                     geo_lon    geo_lat  precinct_id  neighborhood_id  \\\n",
       "offense_id                                                              \n",
       "202268791299900  -104.998910  39.733957          123               41   \n",
       "2021387586299900 -104.993342  39.746248          611                9   \n",
       "2020641486299900 -105.025520  39.782888          111                7   \n",
       "2018612468299900 -105.025330  39.715357          411                3   \n",
       "2020293614299900 -104.845074  39.783082          521               45   \n",
       "\n",
       "                  victim_count_category  \n",
       "offense_id                               \n",
       "202268791299900                       0  \n",
       "2021387586299900                      0  \n",
       "2020641486299900                      0  \n",
       "2018612468299900                      0  \n",
       "2020293614299900                      0  "
      ]
     },
     "execution_count": 34,
     "metadata": {},
     "output_type": "execute_result"
    }
   ],
   "source": [
    "#Create new table based on top features\n",
    "data_top=data[[c for c in data.columns if c in top_col]]\n",
    "data_top.head()"
   ]
  },
  {
   "cell_type": "code",
   "execution_count": 35,
   "id": "2138a937",
   "metadata": {},
   "outputs": [],
   "source": [
    "#Features using top features\n",
    "X=data_top.drop('victim_count_category', axis=1)\n",
    "\n",
    "#Target\n",
    "y=data_top.victim_count_category"
   ]
  },
  {
   "cell_type": "code",
   "execution_count": 36,
   "id": "e8302a57",
   "metadata": {},
   "outputs": [],
   "source": [
    "# Importing train_test_split\n",
    "from sklearn.model_selection import train_test_split\n",
    "\n",
    "# Train-test split\n",
    "X_train, X_test, y_train, y_test = train_test_split(X, y, test_size=0.3, random_state=42, stratify=y)"
   ]
  },
  {
   "cell_type": "markdown",
   "id": "45a3dac9-71be-49d3-b7d9-cf43f72b994b",
   "metadata": {},
   "source": [
    "### Random Forest (Without SMOTE)"
   ]
  },
  {
   "cell_type": "code",
   "execution_count": 58,
   "id": "02dbd33c",
   "metadata": {},
   "outputs": [
    {
     "name": "stdout",
     "output_type": "stream",
     "text": [
      "              precision    recall  f1-score   support\n",
      "\n",
      "         low       0.99      1.00      0.99    114571\n",
      "      medium       0.24      0.05      0.08      1298\n",
      "        high       0.29      0.09      0.14       191\n",
      "\n",
      "    accuracy                           0.99    116060\n",
      "   macro avg       0.51      0.38      0.41    116060\n",
      "weighted avg       0.98      0.99      0.98    116060\n",
      "\n"
     ]
    },
    {
     "data": {
      "text/plain": [
       "<sklearn.metrics._plot.confusion_matrix.ConfusionMatrixDisplay at 0x14a372110>"
      ]
     },
     "execution_count": 58,
     "metadata": {},
     "output_type": "execute_result"
    },
    {
     "data": {
      "image/png": "[encoded data removed]",
      "text/plain": [
       "<Figure size 640x480 with 2 Axes>"
      ]
     },
     "metadata": {},
     "output_type": "display_data"
    }
   ],
   "source": [
    "from sklearn.ensemble import RandomForestClassifier\n",
    "from sklearn.metrics import classification_report\n",
    "\n",
    "# Create and train the RandomForestClassifier\n",
    "forest = RandomForestClassifier(criterion='gini', n_estimators=25, random_state=42, n_jobs=2)\n",
    "forest.fit(X_train, y_train)\n",
    "\n",
    "# Predicting on the test set\n",
    "y_pred = forest.predict(X_test)\n",
    "\n",
    "# Print classification report\n",
    "target_names = ['low', 'medium','high']\n",
    "report = classification_report(y_test, y_pred, zero_division=1,target_names=target_names)\n",
    "print(report)\n",
    "ConfusionMatrixDisplay.from_predictions(y_test, y_pred)"
   ]
  },
  {
   "cell_type": "markdown",
   "id": "90ee80d7-e7c7-42ff-9f5c-421963a27d59",
   "metadata": {},
   "source": [
    "### Random Forest (With SMOTE)"
   ]
  },
  {
   "cell_type": "code",
   "execution_count": 38,
   "id": "4ccd34bc-7646-47fe-b362-a6d56fdcad54",
   "metadata": {},
   "outputs": [
    {
     "name": "stdout",
     "output_type": "stream",
     "text": [
      "              precision    recall  f1-score   support\n",
      "\n",
      "         low       0.99      0.99      0.99    114571\n",
      "      medium       0.20      0.15      0.18      1298\n",
      "        high       0.18      0.18      0.18       191\n",
      "\n",
      "    accuracy                           0.98    116060\n",
      "   macro avg       0.46      0.44      0.45    116060\n",
      "weighted avg       0.98      0.98      0.98    116060\n",
      "\n"
     ]
    },
    {
     "data": {
      "text/plain": [
       "<sklearn.metrics._plot.confusion_matrix.ConfusionMatrixDisplay at 0x14c4d7c50>"
      ]
     },
     "execution_count": 38,
     "metadata": {},
     "output_type": "execute_result"
    },
    {
     "data": {
      "image/png": "[encoded data removed]",
      "text/plain": [
       "<Figure size 640x480 with 2 Axes>"
      ]
     },
     "metadata": {},
     "output_type": "display_data"
    }
   ],
   "source": [
    "from imblearn.over_sampling import SMOTE\n",
    "from imblearn.pipeline import Pipeline\n",
    "\n",
    "# Define the RandomForest with SMOTE\n",
    "forest_SMOTE = Pipeline([\n",
    "    ('smote', SMOTE(random_state=42)),\n",
    "    ('classifier', RandomForestClassifier(criterion='gini', n_estimators=25, random_state=42, n_jobs=2))\n",
    "])\n",
    "\n",
    "forest_SMOTE.fit(X_train, y_train)\n",
    "\n",
    "# Predict on the test set\n",
    "y_pred = forest_SMOTE.predict(X_test)\n",
    "\n",
    "# Print classification report\n",
    "report = classification_report(y_test, y_pred, zero_division=1,target_names=target_names)\n",
    "print(report)\n",
    "ConfusionMatrixDisplay.from_predictions(y_test, y_pred)"
   ]
  },
  {
   "cell_type": "markdown",
   "id": "ca173f52-3571-420a-b0d6-bde905a7335b",
   "metadata": {},
   "source": [
    "### Scaling Data for Logistic Regression"
   ]
  },
  {
   "cell_type": "code",
   "execution_count": 39,
   "id": "c0171275-c2ab-4e5b-a48e-12ff1660fa6c",
   "metadata": {},
   "outputs": [],
   "source": [
    "#Scaling the training data\n",
    "\n",
    "from sklearn.preprocessing import StandardScaler\n",
    "\n",
    "standard = StandardScaler()\n",
    "X_train = standard.fit_transform(X_train)\n",
    "X_test = standard.transform(X_test)"
   ]
  },
  {
   "cell_type": "markdown",
   "id": "7a6b4b16-e175-47f2-8381-7e9201d1668d",
   "metadata": {},
   "source": [
    "### Logistic Regression (Without SMOTE)"
   ]
  },
  {
   "cell_type": "code",
   "execution_count": 40,
   "id": "a9f269a0-5f7a-4dbe-a3fa-ade72ba1220b",
   "metadata": {},
   "outputs": [
    {
     "name": "stdout",
     "output_type": "stream",
     "text": [
      "              precision    recall  f1-score   support\n",
      "\n",
      "         low       0.99      1.00      0.99    114571\n",
      "      medium       0.00      0.00      1.00      1298\n",
      "        high       1.00      0.00      0.00       191\n",
      "\n",
      "    accuracy                           0.99    116060\n",
      "   macro avg       0.66      0.33      0.66    116060\n",
      "weighted avg       0.98      0.99      0.99    116060\n",
      "\n"
     ]
    },
    {
     "data": {
      "text/plain": [
       "<sklearn.metrics._plot.confusion_matrix.ConfusionMatrixDisplay at 0x14c35e850>"
      ]
     },
     "execution_count": 40,
     "metadata": {},
     "output_type": "execute_result"
    },
    {
     "data": {
      "image/png": "[encoded data removed]",
      "text/plain": [
       "<Figure size 640x480 with 2 Axes>"
      ]
     },
     "metadata": {},
     "output_type": "display_data"
    }
   ],
   "source": [
    "from sklearn.linear_model import LogisticRegression\n",
    "from sklearn.metrics import ConfusionMatrixDisplay\n",
    "\n",
    "# Create and train the LRModel\n",
    "LRModel=LogisticRegression(multi_class='multinomial',solver='lbfgs', max_iter=2000)\n",
    "LRModel.fit(X_train,y_train)\n",
    "\n",
    "# Predict on the test set\n",
    "y_pred=LRModel.predict(X_test)\n",
    "\n",
    "# Print classification report\n",
    "print(classification_report(y_test, y_pred, zero_division=1,target_names=target_names))\n",
    "ConfusionMatrixDisplay.from_predictions(y_test, y_pred)"
   ]
  },
  {
   "cell_type": "markdown",
   "id": "8b985644-873b-4a42-aab2-89143e8d7e14",
   "metadata": {},
   "source": [
    "### Logistic Regression (With SMOTE)"
   ]
  },
  {
   "cell_type": "code",
   "execution_count": 41,
   "id": "2aa60a05-d562-4a3a-8ef9-ff05218dc999",
   "metadata": {},
   "outputs": [
    {
     "name": "stdout",
     "output_type": "stream",
     "text": [
      "              precision    recall  f1-score   support\n",
      "\n",
      "         low       1.00      0.87      0.93    114571\n",
      "      medium       0.08      0.60      0.14      1298\n",
      "        high       0.02      0.62      0.04       191\n",
      "\n",
      "    accuracy                           0.87    116060\n",
      "   macro avg       0.37      0.70      0.37    116060\n",
      "weighted avg       0.99      0.87      0.92    116060\n",
      "\n"
     ]
    },
    {
     "data": {
      "text/plain": [
       "<sklearn.metrics._plot.confusion_matrix.ConfusionMatrixDisplay at 0x14a3fce50>"
      ]
     },
     "execution_count": 41,
     "metadata": {},
     "output_type": "execute_result"
    },
    {
     "data": {
      "image/png": "[encoded data removed]",
      "text/plain": [
       "<Figure size 640x480 with 2 Axes>"
      ]
     },
     "metadata": {},
     "output_type": "display_data"
    }
   ],
   "source": [
    "# Define the LR with SMOTE\n",
    "LRModel_SMOTE = Pipeline([\n",
    "    ('smote', SMOTE(random_state=42)),\n",
    "    ('classifier', LogisticRegression(multi_class='multinomial',solver='lbfgs', max_iter=2000))\n",
    "])\n",
    "\n",
    "LRModel_SMOTE.fit(X_train, y_train)\n",
    "\n",
    "# Predict on the test set\n",
    "y_pred = LRModel_SMOTE.predict(X_test)\n",
    "\n",
    "# Print classification report\n",
    "print(classification_report(y_test, y_pred, zero_division=1,target_names=target_names))\n",
    "ConfusionMatrixDisplay.from_predictions(y_test, y_pred)"
   ]
  },
  {
   "cell_type": "markdown",
   "id": "fe66207f-ab35-4dbb-a0c7-6b88c96b0846",
   "metadata": {},
   "source": [
    "### Scaling Data for KNN"
   ]
  },
  {
   "cell_type": "code",
   "execution_count": 42,
   "id": "413c49c7-fba0-401b-a741-d262043e2cd9",
   "metadata": {},
   "outputs": [],
   "source": [
    "#Scaling the training data\n",
    "\n",
    "from sklearn.preprocessing import MinMaxScaler\n",
    "\n",
    "norm=MinMaxScaler()\n",
    "X_train=norm.fit_transform(X_train)\n",
    "X_test=norm.transform(X_test)"
   ]
  },
  {
   "cell_type": "markdown",
   "id": "6281af44-461b-49dd-9336-12a04315825b",
   "metadata": {},
   "source": [
    "### KNN (Without SMOTE) k = 3"
   ]
  },
  {
   "cell_type": "code",
   "execution_count": 43,
   "id": "2f65165d-99f3-4d66-8d5e-d029890c87f6",
   "metadata": {},
   "outputs": [
    {
     "name": "stdout",
     "output_type": "stream",
     "text": [
      "              precision    recall  f1-score   support\n",
      "\n",
      "         low       0.99      1.00      0.99    114571\n",
      "      medium       0.18      0.06      0.09      1298\n",
      "        high       0.21      0.04      0.06       191\n",
      "\n",
      "    accuracy                           0.99    116060\n",
      "   macro avg       0.46      0.36      0.38    116060\n",
      "weighted avg       0.98      0.99      0.98    116060\n",
      "\n"
     ]
    },
    {
     "data": {
      "text/plain": [
       "<sklearn.metrics._plot.confusion_matrix.ConfusionMatrixDisplay at 0x14e8c8690>"
      ]
     },
     "execution_count": 43,
     "metadata": {},
     "output_type": "execute_result"
    },
    {
     "data": {
      "image/png": "[encoded data removed]",
      "text/plain": [
       "<Figure size 640x480 with 2 Axes>"
      ]
     },
     "metadata": {},
     "output_type": "display_data"
    }
   ],
   "source": [
    "from sklearn.neighbors import KNeighborsClassifier\n",
    "\n",
    "# Create and train the LRModel\n",
    "knn = KNeighborsClassifier(n_neighbors=3)\n",
    "knn.fit(X_train,y_train)\n",
    "\n",
    "# Predict on the test set\n",
    "y_pred = knn.predict(X_test)\n",
    "\n",
    "# Print classification report\n",
    "report = classification_report(y_test, y_pred, zero_division=1,target_names=target_names)\n",
    "print(report)\n",
    "ConfusionMatrixDisplay.from_predictions(y_test, y_pred)"
   ]
  },
  {
   "cell_type": "markdown",
   "id": "9035d621-b359-4097-a789-8ba28b6622e1",
   "metadata": {},
   "source": [
    "### KNN (With SMOTE) k = 3"
   ]
  },
  {
   "cell_type": "code",
   "execution_count": 44,
   "id": "fe5f7f7f-f4b1-4b2a-83c5-7088f2cdd966",
   "metadata": {},
   "outputs": [
    {
     "name": "stdout",
     "output_type": "stream",
     "text": [
      "              precision    recall  f1-score   support\n",
      "\n",
      "         low       0.99      0.96      0.98    114571\n",
      "      medium       0.11      0.43      0.18      1298\n",
      "        high       0.06      0.24      0.09       191\n",
      "\n",
      "    accuracy                           0.95    116060\n",
      "   macro avg       0.39      0.54      0.42    116060\n",
      "weighted avg       0.98      0.95      0.96    116060\n",
      "\n"
     ]
    },
    {
     "data": {
      "text/plain": [
       "<sklearn.metrics._plot.confusion_matrix.ConfusionMatrixDisplay at 0x14d45de90>"
      ]
     },
     "execution_count": 44,
     "metadata": {},
     "output_type": "execute_result"
    },
    {
     "data": {
      "image/png": "[encoded data removed]",
      "text/plain": [
       "<Figure size 640x480 with 2 Axes>"
      ]
     },
     "metadata": {},
     "output_type": "display_data"
    }
   ],
   "source": [
    "# Define the KNN with SMOTE\n",
    "knn_SMOTE = Pipeline([\n",
    "    ('smote', SMOTE(random_state=42)),\n",
    "    ('classifier', KNeighborsClassifier(n_neighbors=3))\n",
    "])\n",
    "\n",
    "# Train model\n",
    "knn_SMOTE.fit(X_train,y_train)\n",
    "\n",
    "# Predict on the test set\n",
    "y_pred = knn_SMOTE.predict(X_test)\n",
    "\n",
    "# Print classification report\n",
    "report = classification_report(y_test, y_pred, zero_division=1,target_names=target_names)\n",
    "print(report)\n",
    "ConfusionMatrixDisplay.from_predictions(y_test, y_pred)"
   ]
  },
  {
   "cell_type": "markdown",
   "id": "ad66fc79-6ce5-493a-865e-5d06bc5b7fbc",
   "metadata": {},
   "source": [
    "### Finding The Best K Value"
   ]
  },
  {
   "cell_type": "code",
   "execution_count": 45,
   "id": "5660a140-f715-4146-937d-6cd2be087c8b",
   "metadata": {},
   "outputs": [
    {
     "name": "stdout",
     "output_type": "stream",
     "text": [
      "   k_values  accuracy\n",
      "0         1  0.978649\n",
      "1         2  0.986171\n",
      "2         3  0.985016\n",
      "3         4  0.986740\n",
      "4         5  0.986309\n",
      "5         6  0.986852\n",
      "6         7  0.986800\n",
      "7         8  0.987067\n",
      "8         9  0.987041\n",
      "9        10  0.987110\n"
     ]
    }
   ],
   "source": [
    "from sklearn.metrics import accuracy_score\n",
    "\n",
    "#Want to find the best K value from 1 to 10\n",
    "\n",
    "score_list=list()\n",
    "\n",
    "for k in range (1,11):\n",
    "    knn = KNeighborsClassifier(n_neighbors=k)\n",
    "    knn = knn.fit(X_train,y_train) #training part\n",
    "    y_pred=knn.predict(X_test)\n",
    "    score= accuracy_score(y_test,y_pred)\n",
    "    \n",
    "    score_list.append((k,score))\n",
    "    \n",
    "Score = pd.DataFrame(score_list,columns=['k_values','accuracy'])\n",
    "print(Score)"
   ]
  },
  {
   "cell_type": "code",
   "execution_count": 46,
   "id": "0e0d2df8-3e17-4068-aee8-1dc40f5b2f69",
   "metadata": {},
   "outputs": [
    {
     "data": {
      "image/png": "[encoded data removed]",
      "text/plain": [
       "<Figure size 640x480 with 1 Axes>"
      ]
     },
     "metadata": {},
     "output_type": "display_data"
    }
   ],
   "source": [
    "import matplotlib.pyplot as plt\n",
    "\n",
    "Score.plot(x='k_values', y='accuracy', marker='*')\n",
    "plt.title('Finding the best K Value')\n",
    "plt.xticks(Score['k_values'])  \n",
    "plt.grid()\n",
    "plt.show()"
   ]
  },
  {
   "cell_type": "markdown",
   "id": "63b4a344-e4ad-4e9c-8c33-b533ab69052f",
   "metadata": {},
   "source": [
    "From the above, we can say that the best k value is 10"
   ]
  },
  {
   "cell_type": "markdown",
   "id": "d0aa519e-f1d9-419f-a047-af565be1e8c2",
   "metadata": {},
   "source": [
    "### KNN (Without SMOTE) k = 10"
   ]
  },
  {
   "cell_type": "code",
   "execution_count": 47,
   "id": "26a4266d-0259-4978-ad5f-0ecbf1549122",
   "metadata": {},
   "outputs": [
    {
     "name": "stdout",
     "output_type": "stream",
     "text": [
      "              precision    recall  f1-score   support\n",
      "\n",
      "         low       0.99      1.00      0.99    114571\n",
      "      medium       0.31      0.01      0.02      1298\n",
      "        high       0.17      0.01      0.01       191\n",
      "\n",
      "    accuracy                           0.99    116060\n",
      "   macro avg       0.49      0.34      0.34    116060\n",
      "weighted avg       0.98      0.99      0.98    116060\n",
      "\n"
     ]
    }
   ],
   "source": [
    "from sklearn.neighbors import KNeighborsClassifier\n",
    "\n",
    "# Create and train the LRModel\n",
    "knn10 = KNeighborsClassifier(n_neighbors=10)\n",
    "knn10.fit(X_train,y_train)\n",
    "\n",
    "# Predict on the test set\n",
    "y_pred = knn10.predict(X_test)\n",
    "\n",
    "# Print classification report\n",
    "report = classification_report(y_test, y_pred, zero_division=1,target_names=target_names)\n",
    "print(report)"
   ]
  },
  {
   "cell_type": "markdown",
   "id": "49ef1d6b-e378-4752-817b-0e54907be7ca",
   "metadata": {},
   "source": [
    "### KNN (With SMOTE) k = 10"
   ]
  },
  {
   "cell_type": "code",
   "execution_count": 48,
   "id": "9f42e33f-e8b1-4ff0-a0c6-969b8234eb95",
   "metadata": {},
   "outputs": [
    {
     "name": "stdout",
     "output_type": "stream",
     "text": [
      "              precision    recall  f1-score   support\n",
      "\n",
      "         low       1.00      0.94      0.97    114571\n",
      "      medium       0.10      0.56      0.18      1298\n",
      "        high       0.04      0.29      0.08       191\n",
      "\n",
      "    accuracy                           0.93    116060\n",
      "   macro avg       0.38      0.60      0.41    116060\n",
      "weighted avg       0.98      0.93      0.96    116060\n",
      "\n"
     ]
    }
   ],
   "source": [
    "# Define the KNN with SMOTE\n",
    "knn10_SMOTE = Pipeline([\n",
    "    ('smote', SMOTE(random_state=42)),\n",
    "    ('classifier', KNeighborsClassifier(n_neighbors=10))\n",
    "])\n",
    "\n",
    "# Train model\n",
    "knn10_SMOTE.fit(X_train,y_train)\n",
    "\n",
    "# Predict on the test set\n",
    "y_pred = knn10_SMOTE.predict(X_test)\n",
    "\n",
    "# Print classification report\n",
    "report = classification_report(y_test, y_pred, zero_division=1,target_names=target_names)\n",
    "print(report)"
   ]
  },
  {
   "cell_type": "markdown",
   "id": "c1968ed1-56cb-4cd2-aac9-b1fd1fd5f019",
   "metadata": {},
   "source": [
    "## K-Fold Cross Validation"
   ]
  },
  {
   "cell_type": "code",
   "execution_count": 49,
   "id": "abdd6ede",
   "metadata": {},
   "outputs": [
    {
     "name": "stdout",
     "output_type": "stream",
     "text": [
      "Cross-validation scores: [0.98667763 0.98652253 0.98656906 0.98618112 0.9868015  0.98624316]\n",
      "\n",
      "Mean cross-validation score: 0.9864991656734866\n"
     ]
    }
   ],
   "source": [
    "from sklearn.model_selection import cross_val_score, StratifiedKFold\n",
    "\n",
    "# RandomForest Without SMOTE\n",
    "\n",
    "# K-Fold Cross Validation\n",
    "kf = StratifiedKFold(n_splits=6, shuffle=True, random_state=42)\n",
    "cv_scores = cross_val_score(forest, X, y, cv=kf, scoring='accuracy')\n",
    "\n",
    "# Print cross-validation scores\n",
    "print(f\"Cross-validation scores: {cv_scores}\")\n",
    "print()\n",
    "print(f\"Mean cross-validation score: {np.mean(cv_scores)}\")"
   ]
  },
  {
   "cell_type": "code",
   "execution_count": 50,
   "id": "41dfb2ec-d3f5-48bf-98c8-12f7bcb8340c",
   "metadata": {},
   "outputs": [
    {
     "name": "stdout",
     "output_type": "stream",
     "text": [
      "Cross-validation scores: [0.98216446 0.9817302  0.98221099 0.9820246  0.98194705 0.98176094]\n",
      "\n",
      "Mean cross-validation score: 0.9819730392086882\n"
     ]
    }
   ],
   "source": [
    "\n",
    "# RandomForest With SMOTE\n",
    "\n",
    "# K-Fold Cross Validation\n",
    "kf = StratifiedKFold(n_splits=6, shuffle=True, random_state=42)\n",
    "cv_scores = cross_val_score(forest_SMOTE, X, y, cv=kf, scoring='accuracy')\n",
    "\n",
    "# Print cross-validation scores\n",
    "print(f\"Cross-validation scores: {cv_scores}\")\n",
    "print()\n",
    "print(f\"Mean cross-validation score: {np.mean(cv_scores)}\")"
   ]
  },
  {
   "cell_type": "code",
   "execution_count": 51,
   "id": "b8381de5-8d79-4694-b631-bc31d6ce3598",
   "metadata": {},
   "outputs": [
    {
     "name": "stdout",
     "output_type": "stream",
     "text": [
      "Cross-validation scores: [0.98717392 0.98715841 0.98715841 0.98717372 0.98717372 0.98717372]\n",
      "\n",
      "Mean cross-validation score: 0.9871686506021758\n"
     ]
    }
   ],
   "source": [
    "\n",
    "# Logistic Regression Without SMOTE\n",
    "\n",
    "# K-Fold Cross Validation\n",
    "kf = StratifiedKFold(n_splits=6, shuffle=True, random_state=42)\n",
    "cv_scores = cross_val_score(LRModel, X, y, cv=kf, scoring='accuracy')\n",
    "\n",
    "# Print cross-validation scores\n",
    "print(f\"Cross-validation scores: {cv_scores}\")\n",
    "print()\n",
    "print(f\"Mean cross-validation score: {np.mean(cv_scores)}\")"
   ]
  },
  {
   "cell_type": "code",
   "execution_count": 52,
   "id": "a7aba431-c9fa-461d-9865-35c8257e0881",
   "metadata": {},
   "outputs": [
    {
     "name": "stdout",
     "output_type": "stream",
     "text": [
      "Cross-validation scores: [0.43636589 0.98715841 0.98715841 0.44252989 0.98717372 0.98717372]\n",
      "\n",
      "Mean cross-validation score: 0.8045933415980028\n"
     ]
    }
   ],
   "source": [
    "\n",
    "# Logistic Regression With SMOTE\n",
    "\n",
    "# K-Fold Cross Validation\n",
    "kf = StratifiedKFold(n_splits=6, shuffle=True, random_state=42)\n",
    "cv_scores = cross_val_score(LRModel_SMOTE, X, y, cv=kf, scoring='accuracy')\n",
    "\n",
    "# Print cross-validation scores\n",
    "print(f\"Cross-validation scores: {cv_scores}\")\n",
    "print()\n",
    "print(f\"Mean cross-validation score: {np.mean(cv_scores)}\")"
   ]
  },
  {
   "cell_type": "code",
   "execution_count": 53,
   "id": "650498d5-c1de-48c7-8d28-420886e96407",
   "metadata": {},
   "outputs": [
    {
     "name": "stdout",
     "output_type": "stream",
     "text": [
      "Cross-validation scores: [0.9871429  0.98715841 0.98715841 0.9871427  0.98717372 0.98717372]\n",
      "\n",
      "Mean cross-validation score: 0.9871583110780519\n"
     ]
    }
   ],
   "source": [
    "\n",
    "# KNN Without SMOTE, k = 3\n",
    "\n",
    "# K-Fold Cross Validation\n",
    "kf = StratifiedKFold(n_splits=6, shuffle=True, random_state=42)\n",
    "cv_scores = cross_val_score(knn, X, y, cv=kf, scoring='accuracy')\n",
    "\n",
    "# Print cross-validation scores\n",
    "print(f\"Cross-validation scores: {cv_scores}\")\n",
    "print()\n",
    "print(f\"Mean cross-validation score: {np.mean(cv_scores)}\")"
   ]
  },
  {
   "cell_type": "code",
   "execution_count": 54,
   "id": "603c5b96-4570-4111-914e-4e39a92b7e91",
   "metadata": {},
   "outputs": [
    {
     "name": "stdout",
     "output_type": "stream",
     "text": [
      "Cross-validation scores: [0.9326592  0.93099972 0.9330004  0.93076601 0.93234797 0.93293733]\n",
      "\n",
      "Mean cross-validation score: 0.9321184384630031\n"
     ]
    }
   ],
   "source": [
    "\n",
    "# KNN With SMOTE, k = 3\n",
    "\n",
    "# K-Fold Cross Validation\n",
    "kf = StratifiedKFold(n_splits=6, shuffle=True, random_state=42)\n",
    "cv_scores = cross_val_score(knn_SMOTE, X, y, cv=kf, scoring='accuracy')\n",
    "\n",
    "# Print cross-validation scores\n",
    "print(f\"Cross-validation scores: {cv_scores}\")\n",
    "print()\n",
    "print(f\"Mean cross-validation score: {np.mean(cv_scores)}\")"
   ]
  },
  {
   "cell_type": "code",
   "execution_count": 55,
   "id": "08d48a1a-195e-4d98-966a-06ca66f66644",
   "metadata": {},
   "outputs": [
    {
     "name": "stdout",
     "output_type": "stream",
     "text": [
      "Cross-validation scores: [0.9871429  0.98715841 0.98715841 0.9871427  0.98717372 0.98717372]\n",
      "\n",
      "Mean cross-validation score: 0.9871583110780519\n"
     ]
    }
   ],
   "source": [
    "\n",
    "# KNN Without SMOTE, k = 10\n",
    "\n",
    "# K-Fold Cross Validation\n",
    "kf = StratifiedKFold(n_splits=6, shuffle=True, random_state=42)\n",
    "cv_scores = cross_val_score(knn10, X, y, cv=kf, scoring='accuracy')\n",
    "\n",
    "# Print cross-validation scores\n",
    "print(f\"Cross-validation scores: {cv_scores}\")\n",
    "print()\n",
    "print(f\"Mean cross-validation score: {np.mean(cv_scores)}\")"
   ]
  },
  {
   "cell_type": "code",
   "execution_count": 56,
   "id": "969750d1-85ec-4436-a9a4-4852a41bc302",
   "metadata": {},
   "outputs": [
    {
     "name": "stdout",
     "output_type": "stream",
     "text": [
      "Cross-validation scores: [0.90351748 0.90188902 0.90488229 0.90291112 0.90529956 0.90424492]\n",
      "\n",
      "Mean cross-validation score: 0.9037907308322329\n"
     ]
    }
   ],
   "source": [
    "\n",
    "# KNN With SMOTE, k = 10\n",
    "\n",
    "# K-Fold Cross Validation\n",
    "kf = StratifiedKFold(n_splits=6, shuffle=True, random_state=42)\n",
    "cv_scores = cross_val_score(knn10_SMOTE, X, y, cv=kf, scoring='accuracy')\n",
    "\n",
    "# Print cross-validation scores\n",
    "print(f\"Cross-validation scores: {cv_scores}\")\n",
    "print()\n",
    "print(f\"Mean cross-validation score: {np.mean(cv_scores)}\")"
   ]
  },
  {
   "cell_type": "code",
   "execution_count": null,
   "id": "0dcb80bc-0dbe-4a48-b8d6-9022f0fa2862",
   "metadata": {},
   "outputs": [],
   "source": []
  }
 ],
 "metadata": {
  "kernelspec": {
   "display_name": "Python 3 (ipykernel)",
   "language": "python",
   "name": "python3"
  },
  "language_info": {
   "codemirror_mode": {
    "name": "ipython",
    "version": 3
   },
   "file_extension": ".py",
   "mimetype": "text/x-python",
   "name": "python",
   "nbconvert_exporter": "python",
   "pygments_lexer": "ipython3",
   "version": "3.11.5"
  }
 },
 "nbformat": 4,
 "nbformat_minor": 5
}
